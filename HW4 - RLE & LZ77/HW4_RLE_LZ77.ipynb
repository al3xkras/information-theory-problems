{
 "cells": [
  {
   "cell_type": "code",
   "execution_count": 9,
   "id": "387e155f",
   "metadata": {},
   "outputs": [],
   "source": [
    "import sympy as sp\n",
    "import math"
   ]
  },
  {
   "cell_type": "markdown",
   "id": "5e143208",
   "metadata": {},
   "source": [
    "![](images/im2.png)"
   ]
  },
  {
   "cell_type": "code",
   "execution_count": 10,
   "id": "156e02cd",
   "metadata": {},
   "outputs": [],
   "source": [
    "p_y = sp.symbols(\"p_y\")\n",
    "\n",
    "P_X = [0.3,0.1,0.25,0.15]\n",
    "# Y = {y1, ... ,y_m}: P(y_i)=P(y_j)=p_y V i,j = 1,m\n",
    "\n",
    "def entropy(P):\n",
    "    return sum(-p*math.log2(p) for p in P)\n",
    "\n",
    "# m - ?"
   ]
  },
  {
   "cell_type": "code",
   "execution_count": 27,
   "id": "0f3f3f77",
   "metadata": {},
   "outputs": [
    {
     "data": {
      "text/plain": [
       "1.763827326863529"
      ]
     },
     "execution_count": 27,
     "metadata": {},
     "output_type": "execute_result"
    }
   ],
   "source": [
    "#H(X)\n",
    "entropy(P_X)"
   ]
  },
  {
   "cell_type": "code",
   "execution_count": 32,
   "id": "7d58d166",
   "metadata": {},
   "outputs": [
    {
     "data": {
      "text/plain": [
       "3"
      ]
     },
     "execution_count": 32,
     "metadata": {},
     "output_type": "execute_result"
    }
   ],
   "source": [
    "# entropy(P_Y) = log2(m)   (max. entropy)\n",
    "# => log2(m) = entropy(P_X), m = 2^(entropy(P_X))\n",
    "m = round(math.pow(2,entropy(P_X)))\n",
    "m"
   ]
  },
  {
   "cell_type": "code",
   "execution_count": 34,
   "id": "be8820ca",
   "metadata": {},
   "outputs": [
    {
     "data": {
      "text/plain": [
       "1.584962500721156"
      ]
     },
     "execution_count": 34,
     "metadata": {},
     "output_type": "execute_result"
    }
   ],
   "source": [
    "# H(Y)\n",
    "entropy([1/m for i in range(m)])"
   ]
  },
  {
   "cell_type": "markdown",
   "id": "69072eb4",
   "metadata": {},
   "source": [
    "![](images/im3.png)"
   ]
  },
  {
   "cell_type": "code",
   "execution_count": 50,
   "id": "399ed814",
   "metadata": {},
   "outputs": [
    {
     "name": "stdout",
     "output_type": "stream",
     "text": [
      "bits = 0000000000000000000011111000000000000000000000001111111111111111111111111111110000000000000000000000\n",
      "RLE(nums) = 010100100101010111111110010110\n",
      "Compression ratio: 3.3333333333333335\n"
     ]
    }
   ],
   "source": [
    "def rle(bits):\n",
    "    out=list()\n",
    "    next_lst=[None,None]\n",
    "    max_num=None\n",
    "    for b in bits:\n",
    "        if next_lst[0] is None:\n",
    "            next_lst[0]=b\n",
    "            next_lst[1]=1\n",
    "            max_num=1\n",
    "            continue\n",
    "        if next_lst[0]==b:\n",
    "            next_lst[1]+=1\n",
    "            continue\n",
    "        out.append(tuple(next_lst))\n",
    "        if max_num is None:\n",
    "            max_sum=next_lst[1]\n",
    "        else:\n",
    "            max_num=max(max_num,next_lst[1])\n",
    "        next_lst=[b,1]\n",
    "    out.append(tuple(next_lst))\n",
    "    numeric_bits=math.ceil(math.log2(max_num))\n",
    "    res = \"\"\n",
    "    for x in out:\n",
    "        binary=bin(x[1])[2:]\n",
    "        if len(binary)<numeric_bits:\n",
    "            binary=\"0\"*(numeric_bits-len(binary))+binary\n",
    "        res+=str(x[0])\n",
    "        res+=binary\n",
    "    \n",
    "    return out,res\n",
    "\n",
    "nums=[0]*20 + [1]*5 + [0]*23 + [1]*30 + [0]*22\n",
    "print(\"bits =\",\"\".join(map(str,nums)))\n",
    "out,encoded=rle(nums)\n",
    "print(\"RLE(nums) =\",encoded)\n",
    "print(\"Compression ratio:\",len(nums)/len(encoded))"
   ]
  },
  {
   "cell_type": "markdown",
   "id": "18981f42",
   "metadata": {},
   "source": [
    "![](images/im4.png)"
   ]
  },
  {
   "cell_type": "code",
   "execution_count": 72,
   "id": "da5b1720",
   "metadata": {},
   "outputs": [],
   "source": [
    "def num_to_bits(num, length):\n",
    "    binary=bin(num)[2:]\n",
    "    if len(binary)<length:\n",
    "        binary=\"0\"*(length-len(binary))+binary\n",
    "    return binary\n",
    "    \n",
    "def lz77(bits,include_spaces=False):\n",
    "    words=set()\n",
    "    current_word=None\n",
    "    for x in bits:\n",
    "        if current_word is None:\n",
    "            current_word=str(x)\n",
    "            continue\n",
    "        if not current_word in words:\n",
    "            words.add(current_word)\n",
    "            current_word=str(x)\n",
    "            continue\n",
    "        current_word+=str(x)\n",
    "        \n",
    "    words_count=len(words)\n",
    "    bits_count=math.ceil(math.log2(words_count))\n",
    "    \n",
    "    words=dict()\n",
    "    current_word=None\n",
    "    \n",
    "    encoded=\"\"\n",
    "    index=1\n",
    "    def f(current_word):\n",
    "        nonlocal encoded,bits_count,include_spaces\n",
    "        if len(current_word)==1:\n",
    "            encoded+=num_to_bits(0,bits_count)\n",
    "            if include_spaces: encoded+=\" \"\n",
    "            encoded+=current_word\n",
    "            if include_spaces: encoded+=\"  \"\n",
    "        else:\n",
    "            last_index=words[current_word[:-1]]\n",
    "            encoded+=num_to_bits(last_index,bits_count)\n",
    "            if include_spaces: encoded+=\" \"\n",
    "            encoded+=current_word[len(current_word)-1]\n",
    "            if include_spaces: encoded+=\"  \"\n",
    "    for x in bits:\n",
    "        if current_word is None:\n",
    "            current_word=str(x)\n",
    "            continue\n",
    "        if not current_word in words:\n",
    "            f(current_word)\n",
    "            words[current_word]=index\n",
    "            index+=1\n",
    "            current_word=str(x)\n",
    "            continue\n",
    "        current_word+=str(x)\n",
    "    \n",
    "    f(current_word)\n",
    "    return encoded\n",
    "    "
   ]
  },
  {
   "cell_type": "markdown",
   "id": "ab906d68",
   "metadata": {},
   "source": [
    "![](images/im8.png)"
   ]
  },
  {
   "cell_type": "code",
   "execution_count": 75,
   "id": "4fb8c49b",
   "metadata": {},
   "outputs": [
    {
     "name": "stdout",
     "output_type": "stream",
     "text": [
      "test:\n",
      "encoded bits (with spaces): 000 1  000 0  001 0  001 1  010 1  011 1  101 0  110 1  \n",
      "encoded bits: 00010000001000110101011110101101\n"
     ]
    }
   ],
   "source": [
    "nums=[1,0,1,0,1,1,0,1,1,0,1,0,1,0,1,0,1,1]\n",
    "enc1=lz77(nums,include_spaces=True)\n",
    "print(\"test:\")\n",
    "print(\"encoded bits (with spaces): %s\"%enc1)\n",
    "enc1=lz77(nums,include_spaces=False)\n",
    "print(\"encoded bits: %s\"%enc1)"
   ]
  },
  {
   "cell_type": "markdown",
   "id": "ab11981b",
   "metadata": {},
   "source": [
    "![](images/im4.png)"
   ]
  },
  {
   "cell_type": "code",
   "execution_count": 92,
   "id": "b73470b6",
   "metadata": {},
   "outputs": [
    {
     "name": "stdout",
     "output_type": "stream",
     "text": [
      "encoded bits with spaces: \n",
      "0000 0  0000 1  0001 0  0010 1  0100 1  0011 1  0001 1  0011 0  0110 0  0010 0  1010 1  1010 0  0100 0  0011 0  \n",
      "\n",
      "encoded bits: 0000000001000100010101001001110001100110011000010010101101000100000110\n",
      "\n",
      "compression ratio: 0.5\n",
      "(lz77 does not compress the input bits)\n"
     ]
    }
   ],
   "source": [
    "S = [\n",
    "    0,1,0,0,1,1,1,1,1,0,0,1,0,1,0,0,0,0,0,1,0,1,0,1,0,1,1,0,0,1,1,0,0,0,0,\n",
    "]\n",
    "encoded = lz77(S,include_spaces=True)\n",
    "print(\"encoded bits with spaces: \\n%s\\n\"%encoded)\n",
    "encoded = lz77(S,include_spaces=False)\n",
    "print(\"encoded bits: %s\\n\"%encoded)\n",
    "\n",
    "print(\"compression ratio:\",len(S)/len(encoded))\n",
    "print(\"(lz77 does not compress the input bits)\")"
   ]
  },
  {
   "cell_type": "markdown",
   "id": "f686bc09",
   "metadata": {},
   "source": [
    "![](images/im5.png)"
   ]
  },
  {
   "cell_type": "code",
   "execution_count": 191,
   "id": "86ac76d8",
   "metadata": {},
   "outputs": [],
   "source": [
    "P_X = [0,35,0.25,0.2,0.15,0.05]\n",
    "\n",
    "class Node:\n",
    "    def __init__(self,name,value):\n",
    "        self.name=name\n",
    "        self.value=value\n",
    "    def __hash__(self):\n",
    "        return self.name.__hash__()\n",
    "    def __str__(self):\n",
    "        return self.name+\"\\n\"+str(self.value)\n",
    "    def __eq__(self,other):\n",
    "        if isinstance(other,str):\n",
    "            return self.name==other\n",
    "        return self.name==other.name\n",
    "    def __add__(self,other):\n",
    "        return Node(self.name+\",\"+other.name,round(self.value+other.value,2))\n",
    "    def __iter__(self):\n",
    "        return self.name.__iter__()\n",
    "\n"
   ]
  },
  {
   "cell_type": "code",
   "execution_count": 230,
   "id": "082cd73c",
   "metadata": {},
   "outputs": [
    {
     "name": "stdout",
     "output_type": "stream",
     "text": [
      "x3,x4,x5\n",
      "0.4\n",
      "x3,x4,x5,x1,x2\n",
      "1.0\n"
     ]
    }
   ],
   "source": [
    "import networkx as nx\n",
    "import matplotlib.pyplot as plt\n",
    "\n",
    "x1=Node(\"x1\",0.35)\n",
    "x2=Node(\"x2\",0.25)\n",
    "x3=Node(\"x3\",0.20)\n",
    "x4=Node(\"x4\",0.15)\n",
    "x5=Node(\"x5\",0.05)\n",
    "x3x4x5=x3+x4+x5\n",
    "print(x3x4x5)\n",
    "x3x4x5x1x2=x3x4x5+x1+x2\n",
    "print(x3x4x5x1x2)\n",
    "\n",
    "edge_labels={\n",
    "    (x3x4x5x1x2,x3x4x5):\"1\",\n",
    "    (x3x4x5x1x2,x1):\"2\",\n",
    "    (x3x4x5x1x2,x2):\"3\",\n",
    "    (x3x4x5,x3):\"1\",\n",
    "    (x3x4x5,x4):\"2\",\n",
    "    (x3x4x5,x5):\"3\",    \n",
    "}\n",
    "\n",
    "G = nx.DiGraph({\n",
    "    x1:[x3x4x5x1x2],\n",
    "    x2:[x3x4x5x1x2],\n",
    "    x3:[x3x4x5],\n",
    "    x4:[x3x4x5],\n",
    "    x5:[x3x4x5],\n",
    "    x3x4x5:[x3x4x5x1x2]\n",
    "})"
   ]
  },
  {
   "cell_type": "code",
   "execution_count": 232,
   "id": "c31d1282",
   "metadata": {},
   "outputs": [
    {
     "data": {
      "image/png": "[encoded data removed]",
      "text/plain": [
       "<Figure size 700x500 with 1 Axes>"
      ]
     },
     "metadata": {},
     "output_type": "display_data"
    }
   ],
   "source": [
    "rcParams['figure.figsize'] = 7, 5\n",
    "pos = nx.spring_layout(G)\n",
    "nx.draw(G,pos,\n",
    "        node_color='lightgreen', \n",
    "        node_size=2500,\n",
    "        with_labels=True, \n",
    "        arrows=True,\n",
    "        )\n",
    "nx.draw_networkx_edge_labels(G,pos, edge_labels=edge_labels)\n",
    "plt.show()"
   ]
  },
  {
   "cell_type": "markdown",
   "id": "8d440ff0",
   "metadata": {},
   "source": [
    "Huffman method encoded values:\n",
    "- x1 -> 2\n",
    "- x2 -> 3\n",
    "- x3 -> 11\n",
    "- x4 -> 12\n",
    "- x5 -> 13"
   ]
  },
  {
   "cell_type": "markdown",
   "id": "e5fa11fc",
   "metadata": {},
   "source": [
    "![](images/im6.png)"
   ]
  },
  {
   "cell_type": "markdown",
   "id": "3727ca66",
   "metadata": {},
   "source": [
    "![](images/im7.png)"
   ]
  },
  {
   "cell_type": "code",
   "execution_count": 239,
   "id": "e1b87839",
   "metadata": {},
   "outputs": [
    {
     "name": "stdout",
     "output_type": "stream",
     "text": [
      "Пропускна здатність: 10000.0 bit/s\n",
      "Швидкість передачі інформації: 8266.401619816917 bit/s\n"
     ]
    }
   ],
   "source": [
    "P_X = [0.34,0.46,0.16,0.04]\n",
    "t = 0.2 # ms\n",
    "H = entropy(P_X)\n",
    "t_s = 0.2/1000 # s\n",
    "# Y = X (шум відсутній)\n",
    "# H(Y|X) = 0\n",
    "# H(Y) = H(X)\n",
    "#=> V = H(X)/t\n",
    "V = H / t_s # bit / s\n",
    "\n",
    "# C = 1/t * (log2(|X|) - H(Y|X)) = | H(Y|X) = 0 | = 1/t*log2(|X|)\n",
    "C = 1/t_s*math.log2(len(P_X))\n",
    "\n",
    "print(\"Пропускна здатність: %s bit/s\"%C)\n",
    "print(\"Швидкість передачі інформації: %s bit/s\"%V)"
   ]
  },
  {
   "cell_type": "code",
   "execution_count": null,
   "id": "5a7e7c56",
   "metadata": {},
   "outputs": [],
   "source": []
  }
 ],
 "metadata": {
  "kernelspec": {
   "display_name": "Python 3 (ipykernel)",
   "language": "python",
   "name": "python3"
  },
  "language_info": {
   "codemirror_mode": {
    "name": "ipython",
    "version": 3
   },
   "file_extension": ".py",
   "mimetype": "text/x-python",
   "name": "python",
   "nbconvert_exporter": "python",
   "pygments_lexer": "ipython3",
   "version": "3.10.7"
  }
 },
 "nbformat": 4,
 "nbformat_minor": 5
}
