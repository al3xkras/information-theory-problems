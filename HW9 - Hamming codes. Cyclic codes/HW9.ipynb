{
 "cells": [
  {
   "cell_type": "code",
   "execution_count": 33,
   "id": "7c066133",
   "metadata": {},
   "outputs": [],
   "source": [
    "import sympy as sp\n",
    "import math\n",
    "from IPython.display import display"
   ]
  },
  {
   "cell_type": "markdown",
   "id": "a3b37667",
   "metadata": {},
   "source": [
    "![](images/1.png)"
   ]
  },
  {
   "cell_type": "code",
   "execution_count": 36,
   "id": "f52160df",
   "metadata": {},
   "outputs": [
    {
     "data": {
      "text/plain": [
       "'H'"
      ]
     },
     "metadata": {},
     "output_type": "display_data"
    },
    {
     "data": {
      "text/latex": [
       "$\\displaystyle \\left[\\begin{matrix}0 & 0 & 0 & 1 & 1 & 1 & 1\\\\0 & 1 & 1 & 0 & 0 & 1 & 1\\\\1 & 0 & 1 & 0 & 1 & 0 & 1\\end{matrix}\\right]$"
      ],
      "text/plain": [
       "Matrix([\n",
       "[0, 0, 0, 1, 1, 1, 1],\n",
       "[0, 1, 1, 0, 0, 1, 1],\n",
       "[1, 0, 1, 0, 1, 0, 1]])"
      ]
     },
     "metadata": {},
     "output_type": "display_data"
    }
   ],
   "source": [
    "# (7,4,3) Hamming code:\n",
    "m = 3\n",
    "# G : m x (2^m-1)\n",
    "H = sp.Matrix(\n",
    "[[0,0,1],\n",
    " [0,1,0],\n",
    " [0,1,1],\n",
    " [1,0,0],\n",
    " [1,0,1],\n",
    " [1,1,0],\n",
    " [1,1,1]\n",
    "]).transpose()\n",
    "display(\"H\",H)\n",
    "\n",
    "mod = lambda x:x%2"
   ]
  },
  {
   "cell_type": "code",
   "execution_count": 37,
   "id": "5616019f",
   "metadata": {},
   "outputs": [
    {
     "data": {
      "text/plain": [
       "'G'"
      ]
     },
     "metadata": {},
     "output_type": "display_data"
    },
    {
     "data": {
      "text/latex": [
       "$\\displaystyle \\left[\\begin{matrix}1 & 0 & 0 & 0 & 0 & 1 & 1\\\\0 & 1 & 0 & 0 & 1 & 0 & 1\\\\0 & 0 & 1 & 0 & 1 & 1 & 0\\\\0 & 0 & 0 & 1 & 1 & 1 & 1\\end{matrix}\\right]$"
      ],
      "text/plain": [
       "Matrix([\n",
       "[1, 0, 0, 0, 0, 1, 1],\n",
       "[0, 1, 0, 0, 1, 0, 1],\n",
       "[0, 0, 1, 0, 1, 1, 0],\n",
       "[0, 0, 0, 1, 1, 1, 1]])"
      ]
     },
     "metadata": {},
     "output_type": "display_data"
    },
    {
     "name": "stdout",
     "output_type": "stream",
     "text": [
      "Matrix([[1, 1, 0, 0]]) encoded: Matrix([[1, 1, 0, 0, 1, 1, 0]])\n"
     ]
    }
   ],
   "source": [
    "H[2,:]-=H[0,:]\n",
    "H[0,:]-=H[1,:]\n",
    "H[1,:]+=H[2,:]\n",
    "H[1,:],H[2,:]=H[2,:],H[1,:]\n",
    "H=H.applyfunc(mod)\n",
    "A = H[:,:4].transpose()\n",
    "G=A.col_insert(0,sp.diag(*[1]*4))\n",
    "G\n",
    "v = sp.Matrix([[\n",
    "    1,1,0,0\n",
    "]])\n",
    "enc=(v*G).applyfunc(mod)\n",
    "display(\"G\",G)\n",
    "\n",
    "print(\"%s encoded: %s\"%(v,enc))"
   ]
  },
  {
   "cell_type": "code",
   "execution_count": 43,
   "id": "128f125c",
   "metadata": {},
   "outputs": [
    {
     "data": {
      "text/latex": [
       "$\\displaystyle \\left[\\begin{matrix}0 & 1 & 1 & 1 & 1 & 0 & 0\\\\1 & 0 & 1 & 1 & 0 & 1 & 0\\\\1 & 1 & 0 & 1 & 0 & 0 & 1\\end{matrix}\\right]$"
      ],
      "text/plain": [
       "Matrix([\n",
       "[0, 1, 1, 1, 1, 0, 0],\n",
       "[1, 0, 1, 1, 0, 1, 0],\n",
       "[1, 1, 0, 1, 0, 0, 1]])"
      ]
     },
     "execution_count": 43,
     "metadata": {},
     "output_type": "execute_result"
    }
   ],
   "source": [
    "H"
   ]
  },
  {
   "cell_type": "code",
   "execution_count": 45,
   "id": "544c34b6",
   "metadata": {},
   "outputs": [
    {
     "data": {
      "text/latex": [
       "$\\displaystyle \\left[\\begin{matrix}1 & 1 & 0\\end{matrix}\\right]$"
      ],
      "text/plain": [
       "Matrix([[1, 1, 0]])"
      ]
     },
     "execution_count": 45,
     "metadata": {},
     "output_type": "execute_result"
    }
   ],
   "source": [
    "v = sp.Matrix([[\n",
    "    0,1,1,0,1,0,1\n",
    "]])\n",
    "syn = (v*H.transpose()).applyfunc(mod)\n",
    "syn"
   ]
  },
  {
   "cell_type": "markdown",
   "id": "463db992",
   "metadata": {},
   "source": [
    "(1,1,0) != (0,0,0) \n",
    "\n",
    "=>\n",
    "\n",
    "v не є кодовим словом\n",
    "\n",
    "помилка трапилася на 5 позиції \n",
    "\n",
    "=>\n",
    "\n",
    "Декодоване слово: [0,1,1,0,0,0,1]"
   ]
  },
  {
   "cell_type": "markdown",
   "id": "547fc4ba",
   "metadata": {},
   "source": [
    "![](images/2.png)"
   ]
  },
  {
   "cell_type": "code",
   "execution_count": 59,
   "id": "0c775839",
   "metadata": {},
   "outputs": [
    {
     "data": {
      "text/plain": [
       "'G'"
      ]
     },
     "metadata": {},
     "output_type": "display_data"
    },
    {
     "data": {
      "text/latex": [
       "$\\displaystyle \\left[\\begin{matrix}1 & 0 & 0 & 0 & 2\\\\0 & 1 & 0 & 1 & 3\\\\0 & 0 & 1 & 2 & 0\\end{matrix}\\right]$"
      ],
      "text/plain": [
       "Matrix([\n",
       "[1, 0, 0, 0, 2],\n",
       "[0, 1, 0, 1, 3],\n",
       "[0, 0, 1, 2, 0]])"
      ]
     },
     "metadata": {},
     "output_type": "display_data"
    },
    {
     "data": {
      "text/plain": [
       "'A'"
      ]
     },
     "metadata": {},
     "output_type": "display_data"
    },
    {
     "data": {
      "text/latex": [
       "$\\displaystyle \\left[\\begin{matrix}0 & 4 & 3\\\\3 & 2 & 0\\end{matrix}\\right]$"
      ],
      "text/plain": [
       "Matrix([\n",
       "[0, 4, 3],\n",
       "[3, 2, 0]])"
      ]
     },
     "metadata": {},
     "output_type": "display_data"
    },
    {
     "data": {
      "text/plain": [
       "'H'"
      ]
     },
     "metadata": {},
     "output_type": "display_data"
    },
    {
     "data": {
      "text/latex": [
       "$\\displaystyle \\left[\\begin{matrix}0 & 4 & 3 & 1 & 0\\\\3 & 2 & 0 & 0 & 1\\end{matrix}\\right]$"
      ],
      "text/plain": [
       "Matrix([\n",
       "[0, 4, 3, 1, 0],\n",
       "[3, 2, 0, 0, 1]])"
      ]
     },
     "metadata": {},
     "output_type": "display_data"
    }
   ],
   "source": [
    "G = sp.Matrix([\n",
    "    [1,2,4,0,3],\n",
    "    [0,2,1,4,1],\n",
    "    [2,0,3,1,4]\n",
    "])\n",
    "G[2,:]-=2*G[0,:]\n",
    "G[0,:]-=G[1,:]\n",
    "G[2,:]+=2*G[1,:]\n",
    "G[1,:]*=3\n",
    "G[2,:]*=3\n",
    "G[1,:]-=3*G[2,:]\n",
    "G[0,:]-=3*G[2,:]\n",
    "mod5=lambda x: x%5\n",
    "G=G.applyfunc(mod5)\n",
    "display(\"G\",G)\n",
    "A = (-G[:,3:].transpose()).applyfunc(mod5)\n",
    "display(\"A\",A)\n",
    "H = A.col_insert(3,sp.diag(1,1))\n",
    "display(\"H\",H)"
   ]
  },
  {
   "cell_type": "markdown",
   "id": "9b585575",
   "metadata": {},
   "source": [
    "Мінімальна кількість лінійно залежних стовпчиків Н = 2 \n",
    "\n",
    "$\\rightarrow$\n",
    "Кодова відстань: $d^* = 2$"
   ]
  },
  {
   "cell_type": "markdown",
   "id": "e7a445d8",
   "metadata": {},
   "source": [
    "![](images/3.png)"
   ]
  },
  {
   "cell_type": "code",
   "execution_count": 83,
   "id": "dfbe66c6",
   "metadata": {},
   "outputs": [
    {
     "data": {
      "text/plain": [
       "'H'"
      ]
     },
     "metadata": {},
     "output_type": "display_data"
    },
    {
     "data": {
      "text/latex": [
       "$\\displaystyle \\left[\\begin{matrix}0 & 0 & 0 & 1 & 1 & 1 & 1\\\\0 & 1 & 1 & 0 & 0 & 1 & 1\\\\1 & 0 & 1 & 0 & 1 & 0 & 1\\end{matrix}\\right]$"
      ],
      "text/plain": [
       "Matrix([\n",
       "[0, 0, 0, 1, 1, 1, 1],\n",
       "[0, 1, 1, 0, 0, 1, 1],\n",
       "[1, 0, 1, 0, 1, 0, 1]])"
      ]
     },
     "metadata": {},
     "output_type": "display_data"
    },
    {
     "data": {
      "text/plain": [
       "'H (standard form)'"
      ]
     },
     "metadata": {},
     "output_type": "display_data"
    },
    {
     "data": {
      "text/latex": [
       "$\\displaystyle \\left[\\begin{matrix}0 & 1 & 1 & 1 & 1 & 0 & 0 & 0\\\\1 & 0 & 1 & 1 & 0 & 1 & 0 & 0\\\\1 & 1 & 0 & 1 & 0 & 0 & 1 & 0\\\\1 & 1 & 1 & 0 & 0 & 0 & 0 & 1\\end{matrix}\\right]$"
      ],
      "text/plain": [
       "Matrix([\n",
       "[0, 1, 1, 1, 1, 0, 0, 0],\n",
       "[1, 0, 1, 1, 0, 1, 0, 0],\n",
       "[1, 1, 0, 1, 0, 0, 1, 0],\n",
       "[1, 1, 1, 0, 0, 0, 0, 1]])"
      ]
     },
     "metadata": {},
     "output_type": "display_data"
    },
    {
     "data": {
      "text/plain": [
       "'u = '"
      ]
     },
     "metadata": {},
     "output_type": "display_data"
    },
    {
     "data": {
      "text/latex": [
       "$\\displaystyle \\left[\\begin{matrix}1 & 0 & 1 & 0\\end{matrix}\\right]$"
      ],
      "text/plain": [
       "Matrix([[1, 0, 1, 0]])"
      ]
     },
     "metadata": {},
     "output_type": "display_data"
    },
    {
     "data": {
      "text/plain": [
       "'u * G  (u, encoded) = '"
      ]
     },
     "metadata": {},
     "output_type": "display_data"
    },
    {
     "data": {
      "text/latex": [
       "$\\displaystyle \\left[\\begin{matrix}1 & 0 & 1 & 0 & 1 & 0 & 1 & 0\\end{matrix}\\right]$"
      ],
      "text/plain": [
       "Matrix([[1, 0, 1, 0, 1, 0, 1, 0]])"
      ]
     },
     "metadata": {},
     "output_type": "display_data"
    }
   ],
   "source": [
    "H = sp.Matrix(\n",
    "[[0,0,1],\n",
    " [0,1,0],\n",
    " [0,1,1],\n",
    " [1,0,0],\n",
    " [1,0,1],\n",
    " [1,1,0],\n",
    " [1,1,1]\n",
    "]).transpose()\n",
    "display(\"H\",H)\n",
    "\n",
    "H=H.col_insert(8,sp.Matrix([\n",
    "    [0]\n",
    "]*3))\n",
    "H=H.row_insert(6,sp.Matrix([\n",
    "    [1]*8\n",
    "]))\n",
    "H[3,:]-=H[0,:]\n",
    "H[1,:]-=H[2,:]\n",
    "H[0,:]-=H[2,:]\n",
    "H[1,:]-=H[0,:]\n",
    "H[1,:],H[0,:]=H[0,:],H[1,:]\n",
    "H[2,:]-=H[0,:]\n",
    "H=H.applyfunc(mod)\n",
    "display(\"H (standard form)\",H)\n",
    "u=sp.Matrix([[\n",
    "    1,0,1,0\n",
    "]])\n",
    "\n",
    "G = sp.diag(*[1]*4).col_insert(5,H[:,:4])\n",
    "G\n",
    "enc=(u*G).applyfunc(mod)\n",
    "display(\"u = \",u)\n",
    "display(\"u * G  (u, encoded) = \",enc)"
   ]
  },
  {
   "cell_type": "markdown",
   "id": "1da7670f",
   "metadata": {},
   "source": [
    "![](images/4.png)"
   ]
  },
  {
   "cell_type": "markdown",
   "id": "2ed21247",
   "metadata": {},
   "source": [
    "(1)\n",
    "$x^5-1 = f \\in \\mathbb{F}_2[x]\\newline\n",
    "f(1) = 0 =>\\newline\n",
    "f = (x-1)g;\\space\\space  -1 = 1 \\in F_2\n",
    "$\n",
    "<pre>\n",
    "  | 1 0 0 0 0 -1\n",
    "1 |   1 1 1 1 1\n",
    "-----------------\n",
    "  | 1 1 1 1 1 0\n",
    "</pre>\n",
    "$f(x) = (x-1)(x^4+x^3+x^2+x+1)\\newline\n",
    "g(0)!=0\\newline\n",
    "g(1)!=0\\newline\n",
    "$\n",
    "Нерозкладні степеня 2 над $\\mathbb{F}_2[x]$\n",
    "\n",
    "1. (x**2+x+1)\n",
    "\n",
    "$g \\neq (x^2+x+1)^2$ => g є нерозкладним над $\\mathbb{F}_2[x]$\n",
    "\n",
    "=> \n",
    "\n",
    "$\n",
    "f(x) = (x+1)(x^4+x^3+x^2+x+1)\n",
    "$ - розклад f(x) на незвідні множники над $\\mathbb{F}_2[x]$\n"
   ]
  },
  {
   "cell_type": "markdown",
   "id": "b394ddd7",
   "metadata": {},
   "source": [
    "(2) \n",
    "\n",
    "$x^5-1 = f \\in \\mathbb{F}_5[x]\\newline\n",
    "f(1) = 0 =>\\newline\n",
    "f = (x-1)g;\\space\\space  -1 = 4 \\in F_4\n",
    "$\n",
    "<pre>\n",
    "  | 1 0 0 0 0 -1\n",
    "1 |   1 1 1 1 1\n",
    "-----------------\n",
    "  | 1 1 1 1 1 0\n",
    "1 |   1 2 3 4\n",
    "-----------------\n",
    "  | 1 2 3 4 5=0\n",
    "  \n",
    "</pre>\n",
    "$f(x) = (x+4)(x^4+x^3+x^2+x+1)\\newline\n",
    "g(0)\\neq0\\newline\n",
    "g(1)=0\\newline$\n",
    "\n",
    "$g(x) = (x+4)(x^3+2x^2+3x+4) = (x+4)h(x)$\n",
    "h(1) = 0\n",
    "\n",
    "$(x-1)^5 = x^5−5x^4+10x^3−10x^2+5x−1 = x^5-1$  над $ \\mathbb{F}_5[x]$\n",
    "\n",
    "=>\n",
    "\n",
    "$f = (x-1)^5$ - розклад f(x) на незвідні множники над $\\mathbb{F}_5[x]$\n"
   ]
  },
  {
   "cell_type": "markdown",
   "id": "0d2e57ed",
   "metadata": {},
   "source": [
    "![](images/5.png)"
   ]
  },
  {
   "cell_type": "markdown",
   "id": "55b93e0d",
   "metadata": {},
   "source": [
    "Нехай $f(x) = a_0 + a_1x+a_2x^2+...+a_nx^n \\in \\mathbb{F}_2[x]$ - незвідний над $\\mathbb{F}_2[x]$.\n",
    "\n",
    "Тоді, \n",
    "\n",
    "$\n",
    "\\begin{equation}\n",
    "    \\begin{cases}\n",
    "      \\forall g,h \\in \\mathbb{F}_2[x] : ( f = gh ) \\Rightarrow ( ord(g) = 0 ) \\oplus ( ord(h) = 0 )\\newline\\\\\n",
    "      f(0) \\neq 0, f(1) \\neq 0\n",
    "    \\end{cases}\\,.\n",
    "\\end{equation}\n",
    "$\n",
    "\n",
    "Нехай коефіцієнти $a_{i_1}, ..., a_{i_k}$ є ненульовими (якщо f незвідний, то $a_0 \\neq 0$)\n",
    "\n",
    "Тоді\n",
    "\n",
    "$\n",
    "\\begin{equation}\n",
    "    \\begin{cases}\n",
    "    f(0) = 1 \\Rightarrow a_0 = 1\\newline\\\\\n",
    "    f(1) = \\sum\\limits_{l=1}^{k}a_{i_l} = k = 1\n",
    "    \\end{cases}\\,.\n",
    "\\end{equation}\n",
    "$\n",
    "\n",
    "$\\Rightarrow k \\equiv 1 (mod 2) \\Rightarrow$ k - непарне, що потрібно було довести"
   ]
  },
  {
   "cell_type": "markdown",
   "id": "216db743",
   "metadata": {},
   "source": [
    "![](images/6.png)"
   ]
  },
  {
   "cell_type": "markdown",
   "id": "ac0c9634",
   "metadata": {},
   "source": [
    "$f(x) = x^4 - 1 \\in \\mathbb{F}_3[x]$\n",
    "\n",
    "$f(x) = x^4 + 2\\newline\n",
    "f(0) = 2 \\neq 0 \\newline\n",
    "f(1) = 3 = 0 \\newline\n",
    "\\Rightarrow f(x) = (x+2)(x^3+x^2+x+1) \\newline\n",
    "g(x) = x^3+x^2+x+1 \\newline\n",
    "g(2) = 8+4+2+1=0 \\newline\n",
    " \\newline\n",
    "g(x) = (x-2)(x^2+1) \\newline\n",
    "$\n",
    "\n",
    "$x^2+1$ - незвідний над $\\mathbb{F}_3[x]$\n",
    "\n",
    "<pre>\n",
    "  | 1 0 0 0 2\n",
    "1 |   1 1 1 1\n",
    "-----------------\n",
    "  | 1 1 1 1 3=0\n",
    "2 |   2 0 2\n",
    "-----------------\n",
    "  | 1 0 1 3=0\n",
    "</pre>\n",
    "\n",
    "$\\Rightarrow f(x) = (x+2)(x+1)(x^2+1)$ - розклад f(x) на незвідні множники над $\\mathbb{F}_3[x]$\n",
    "\n",
    "\n",
    "\n",
    "$x^2+1 \\leftrightarrow 00101 \\Rightarrow$\n",
    "\n",
    "Циклічний код відповідний ідеалу $(x^2+1)$:\n",
    "\n",
    "$C = \\{00000, 00101, 10010, 01001, 10100, 01010\\}$\n",
    "\n"
   ]
  },
  {
   "cell_type": "code",
   "execution_count": null,
   "id": "3de5e191",
   "metadata": {},
   "outputs": [],
   "source": []
  }
 ],
 "metadata": {
  "kernelspec": {
   "display_name": "Python 3 (ipykernel)",
   "language": "python",
   "name": "python3"
  },
  "language_info": {
   "codemirror_mode": {
    "name": "ipython",
    "version": 3
   },
   "file_extension": ".py",
   "mimetype": "text/x-python",
   "name": "python",
   "nbconvert_exporter": "python",
   "pygments_lexer": "ipython3",
   "version": "3.10.7"
  }
 },
 "nbformat": 4,
 "nbformat_minor": 5
}
