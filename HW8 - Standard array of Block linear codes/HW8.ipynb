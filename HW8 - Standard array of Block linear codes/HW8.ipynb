{
 "cells": [
  {
   "cell_type": "code",
   "execution_count": 1,
   "id": "f2936cf7",
   "metadata": {},
   "outputs": [],
   "source": [
    "import sympy as sp\n",
    "import math\n",
    "from IPython.display import display"
   ]
  },
  {
   "cell_type": "markdown",
   "id": "0af2822b",
   "metadata": {},
   "source": [
    "![](images/1.png)"
   ]
  },
  {
   "cell_type": "code",
   "execution_count": 6,
   "id": "e0b9c65b",
   "metadata": {},
   "outputs": [
    {
     "data": {
      "text/plain": [
       "'A'"
      ]
     },
     "metadata": {},
     "output_type": "display_data"
    },
    {
     "data": {
      "text/latex": [
       "$\\displaystyle \\left[\\begin{matrix}0 & 1 & 1\\\\1 & 1 & 0\\\\1 & 1 & 1\\end{matrix}\\right]$"
      ],
      "text/plain": [
       "Matrix([\n",
       "[0, 1, 1],\n",
       "[1, 1, 0],\n",
       "[1, 1, 1]])"
      ]
     },
     "metadata": {},
     "output_type": "display_data"
    },
    {
     "data": {
      "text/plain": [
       "'G'"
      ]
     },
     "metadata": {},
     "output_type": "display_data"
    },
    {
     "data": {
      "text/latex": [
       "$\\displaystyle \\left[\\begin{matrix}1 & 0 & 0 & 0 & 1 & 1\\\\0 & 1 & 0 & 1 & 1 & 0\\\\0 & 0 & 1 & 1 & 1 & 1\\end{matrix}\\right]$"
      ],
      "text/plain": [
       "Matrix([\n",
       "[1, 0, 0, 0, 1, 1],\n",
       "[0, 1, 0, 1, 1, 0],\n",
       "[0, 0, 1, 1, 1, 1]])"
      ]
     },
     "metadata": {},
     "output_type": "display_data"
    }
   ],
   "source": [
    "H = sp.Matrix([\n",
    "    [0,1,1,1,0,0],\n",
    "    [1,1,1,0,1,0],\n",
    "    [1,0,1,0,0,1]\n",
    "])\n",
    "\n",
    "A = -H[:,:3].transpose()\n",
    "A=A.applyfunc(lambda x: x%2)\n",
    "display(\"A\",A)\n",
    "\n",
    "G = A.col_insert(0,sp.diag(*[1]*3))\n",
    "display(\"G\",G)\n"
   ]
  },
  {
   "cell_type": "markdown",
   "id": "2b279c4f",
   "metadata": {},
   "source": [
    "![](images/2.png)"
   ]
  },
  {
   "cell_type": "markdown",
   "id": "b7f20f82",
   "metadata": {},
   "source": [
    "Розв. у минулому домашньому завданні"
   ]
  },
  {
   "cell_type": "markdown",
   "id": "7bd6d202",
   "metadata": {},
   "source": [
    "![](images/3.png)"
   ]
  },
  {
   "cell_type": "markdown",
   "id": "ab9f6c19",
   "metadata": {},
   "source": [
    "Розв. у минулому домашньому завданні"
   ]
  },
  {
   "cell_type": "markdown",
   "id": "3ea07a69",
   "metadata": {},
   "source": [
    "![](images/4.png)"
   ]
  },
  {
   "cell_type": "code",
   "execution_count": 59,
   "id": "8b54ddc1",
   "metadata": {},
   "outputs": [
    {
     "name": "stdout",
     "output_type": "stream",
     "text": [
      "a) Кодові слова: \n"
     ]
    },
    {
     "data": {
      "text/plain": [
       "{(0, 0, 0, 0, 0),\n",
       " (0, 0, 1, 1, 1),\n",
       " (0, 1, 0, 1, 0),\n",
       " (1, 0, 0, 1, 1),\n",
       " (1, 0, 1, 0, 0),\n",
       " (1, 1, 0, 0, 1),\n",
       " (1, 1, 1, 1, 0)}"
      ]
     },
     "metadata": {},
     "output_type": "display_data"
    }
   ],
   "source": [
    "from itertools import combinations\n",
    "G = sp.Matrix([\n",
    "    [1,0,1,0,0],\n",
    "    [1,0,0,1,1],\n",
    "    [0,1,0,1,0]\n",
    "])\n",
    "v = [G[i,:] for i in range(3)]\n",
    "\n",
    "C = set()\n",
    "C.add(tuple(v[0]-v[0]))\n",
    "for i in range(1,len(v)):\n",
    "    for vs in combinations(v,i):\n",
    "        v_ij=None\n",
    "        for v_ in vs:\n",
    "            if v_ij is None:\n",
    "                v_ij=v_\n",
    "                continue\n",
    "            v_ij+=v_\n",
    "        v_ij=v_ij.applyfunc(lambda x: x%2)\n",
    "        C.add(tuple(v_ij))\n",
    "print(\"a) Кодові слова: \")\n",
    "display(C)\n",
    "\n"
   ]
  },
  {
   "cell_type": "code",
   "execution_count": 60,
   "id": "ffcff717",
   "metadata": {},
   "outputs": [
    {
     "data": {
      "text/plain": [
       "'G, standard form'"
      ]
     },
     "metadata": {},
     "output_type": "display_data"
    },
    {
     "data": {
      "text/latex": [
       "$\\displaystyle \\left[\\begin{matrix}1 & 0 & 0 & 1 & 1\\\\0 & 1 & 0 & 1 & 0\\\\0 & 0 & 1 & 1 & 1\\end{matrix}\\right]$"
      ],
      "text/plain": [
       "Matrix([\n",
       "[1, 0, 0, 1, 1],\n",
       "[0, 1, 0, 1, 0],\n",
       "[0, 0, 1, 1, 1]])"
      ]
     },
     "metadata": {},
     "output_type": "display_data"
    },
    {
     "data": {
      "text/plain": [
       "'H'"
      ]
     },
     "metadata": {},
     "output_type": "display_data"
    },
    {
     "data": {
      "text/latex": [
       "$\\displaystyle \\left[\\begin{matrix}1 & 1 & 1 & 1 & 0\\\\1 & 0 & 1 & 0 & 1\\end{matrix}\\right]$"
      ],
      "text/plain": [
       "Matrix([\n",
       "[1, 1, 1, 1, 0],\n",
       "[1, 0, 1, 0, 1]])"
      ]
     },
     "metadata": {},
     "output_type": "display_data"
    }
   ],
   "source": [
    "G = sp.Matrix([\n",
    "    [1,0,1,0,0],\n",
    "    [1,0,0,1,1],\n",
    "    [0,1,0,1,0]\n",
    "])\n",
    "\n",
    "G[1,:]-=G[0,:]\n",
    "G[1,:],G[2,:]=G[2,:],G[1,:]\n",
    "G[0,:]+=G[2,:]\n",
    "mod=lambda x:x%2\n",
    "G=G.applyfunc(mod)\n",
    "display(\"G, standard form\",G)\n",
    "A = G[:,3:]\n",
    "H = sp.diag(*[1]*2).col_insert(0,-A.transpose()).applyfunc(mod)\n",
    "display(\"H\",H)"
   ]
  },
  {
   "cell_type": "markdown",
   "id": "c11e4766",
   "metadata": {},
   "source": [
    "Мінімальна кількість лінійно залежних стовпчиків H рівна 2 => \n",
    "\n",
    "$$d^{*} = 2$$\n"
   ]
  },
  {
   "cell_type": "markdown",
   "id": "edac144c",
   "metadata": {},
   "source": [
    "![](images/5.png)"
   ]
  },
  {
   "cell_type": "code",
   "execution_count": 65,
   "id": "d73c662c",
   "metadata": {},
   "outputs": [
    {
     "data": {
      "text/plain": [
       "'H'"
      ]
     },
     "metadata": {},
     "output_type": "display_data"
    },
    {
     "data": {
      "text/latex": [
       "$\\displaystyle \\left[\\begin{matrix}1 & 1 & 1 & 1 & 0\\\\1 & 0 & 1 & 0 & 1\\end{matrix}\\right]$"
      ],
      "text/plain": [
       "Matrix([\n",
       "[1, 1, 1, 1, 0],\n",
       "[1, 0, 1, 0, 1]])"
      ]
     },
     "metadata": {},
     "output_type": "display_data"
    },
    {
     "data": {
      "text/plain": [
       "'syndromes:'"
      ]
     },
     "metadata": {},
     "output_type": "display_data"
    },
    {
     "data": {
      "text/plain": [
       "{(0, 0): [(1, 0, 1, 0, 0),\n",
       "  (0, 0, 1, 1, 1),\n",
       "  (1, 1, 1, 1, 0),\n",
       "  (1, 0, 0, 1, 1),\n",
       "  (0, 1, 0, 1, 0),\n",
       "  (0, 0, 0, 0, 0),\n",
       "  (1, 1, 0, 0, 1)]}"
      ]
     },
     "metadata": {},
     "output_type": "display_data"
    }
   ],
   "source": [
    "display(\"H\",H)\n",
    "syndromes=dict()\n",
    "for c in C:\n",
    "    syn=tuple((sp.Matrix([c])*H.transpose()).applyfunc(mod))\n",
    "    if syn in syndromes:\n",
    "        syndromes[syn].append(c)\n",
    "        continue\n",
    "    syndromes[syn]=[c]\n",
    "    \n",
    "display(\"syndromes:\",syndromes)"
   ]
  },
  {
   "cell_type": "markdown",
   "id": "e470a7de",
   "metadata": {},
   "source": [
    "г) Стандартний масив:\n",
    "<pre>\n",
    "  (0,0,0,0,0) = (1,1,1,1,0) = (1,0,1,0,1) = (0,1,0,1,1)\n",
    "  -----------------------------------------------------\n",
    "  (1,0,0,0,0) | (1,1,1,0,0) | (1,1,1,0,1) | (1,0,0,1,1) \n",
    "  (0,1,0,0,0) | (1,1,1,1,1) | (1,0,1,0,0) | (1,0,0,1,1)\n",
    "  (0,0,1,0,0) | (0,1,1,1,0) | (1,0,0,0,1) | (0,1,0,1,1)"
   ]
  },
  {
   "cell_type": "markdown",
   "id": "84f5d0f5",
   "metadata": {},
   "source": [
    "д) Код $C$ може виправляти $[\\frac{d^*-1}{2}] = [(2-1)/2] = 0$ помилок\n"
   ]
  },
  {
   "cell_type": "code",
   "execution_count": null,
   "id": "b4cb22fa",
   "metadata": {},
   "outputs": [],
   "source": []
  }
 ],
 "metadata": {
  "kernelspec": {
   "display_name": "Python 3 (ipykernel)",
   "language": "python",
   "name": "python3"
  },
  "language_info": {
   "codemirror_mode": {
    "name": "ipython",
    "version": 3
   },
   "file_extension": ".py",
   "mimetype": "text/x-python",
   "name": "python",
   "nbconvert_exporter": "python",
   "pygments_lexer": "ipython3",
   "version": "3.10.7"
  }
 },
 "nbformat": 4,
 "nbformat_minor": 5
}
