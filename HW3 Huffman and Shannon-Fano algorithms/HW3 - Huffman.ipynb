{
 "cells": [
  {
   "cell_type": "markdown",
   "id": "ee303c5c",
   "metadata": {},
   "source": [
    "a) A prefix code is a type of code system distinguished by its possession of the \"prefix property\", which requires that there is no whole code word in the system that is a prefix (initial segment) of any other code word in the system. It is trivially true for fixed-length code, so only a point of consideration in variable-length code.\n",
    "\n",
    "b) Kraft's inequality limits the lengths of codewords in a prefix code: if one takes an exponential of the length of each valid codeword, the resulting set of values must look like a probability mass function, that is, it must have total measure less than or equal to one.\n",
    "\n",
    "c) In information theory, Shannon's source coding theorem (or noiseless coding theorem) establishes the limits to possible data compression, and the operational meaning of the Shannon entropy.\n",
    "\n",
    "The source coding theorem shows that (in the limit, as the length of a stream of independent and identically-distributed random variable (i.i.d.) data tends to infinity) it is impossible to compress the data such that the code rate (average number of bits per symbol) is less than the Shannon entropy of the source, without it being virtually certain that information will be lost. However it is possible to get the code rate arbitrarily close to the Shannon entropy, with negligible probability of loss."
   ]
  },
  {
   "cell_type": "code",
   "execution_count": 1,
   "id": "bce128ac",
   "metadata": {},
   "outputs": [],
   "source": [
    "from math import log,log2\n",
    "import sympy as sp\n",
    "import operator\n",
    "\n",
    "class DDS:\n",
    "    def __init__(self,symbols):\n",
    "        if isinstance(symbols,dict):\n",
    "            assert sum(symbols.values())==1\n",
    "            self.symbols=symbols\n",
    "        else:\n",
    "            assert round(float(sum(symbols)),3)==1.0\n",
    "            self.symbols=dict((str(i),symbols[i]) for i in range(len(symbols)))\n",
    "        self.n=len(symbols)\n",
    "        #Hartley formula\n",
    "        self.max_entropy=log2(self.n)\n",
    "        \n",
    "    def get_entropy(self):\n",
    "        return sum(-x*log2(x) for x in self.symbols.values())\n",
    "    \n",
    "    def information(self,symbol):\n",
    "        return -log2(self.symbols[self.symbol])\n",
    "    \n",
    "    def redundancy(self):\n",
    "        return 1-self.get_entropy()/self.max_entropy\n",
    "    \n",
    "class ChannelMatrix:\n",
    "    def __init__(self,mat,p_x):\n",
    "        self.mat=sp.Matrix(mat)\n",
    "        self.p_x=sp.Array(p_x)\n",
    "        \n",
    "        M_YX=self.M_YX()\n",
    "        self.p_y=[sum(M_YX[:,x]) for x in range(3)]\n",
    "    \n",
    "    def mean_information_per_symbol(self):\n",
    "        return DDS(self.p_x).get_entropy()\n",
    "    \n",
    "    def M_YX(self):\n",
    "        M_YX = self.mat.copy()\n",
    "        for i in range(3):\n",
    "            for j in range(3):\n",
    "                M_YX[i,j]*=self.p_x[i]\n",
    "        return M_YX\n",
    "    \n",
    "    def H_YX(self):\n",
    "        m=self.M_YX()\n",
    "        s=0\n",
    "        for i in range(3):\n",
    "            for j in range(3):\n",
    "                s-=self.p_x[i]*self.mat[i,j]*log2(self.mat[i,j])\n",
    "        return s\n",
    "        \n",
    "    \n",
    "    def I_XY(self,message_length):\n",
    "        n=message_length\n",
    "        H_YX=self.H_YX()\n",
    "        H_Y=DDS(self.p_x).get_entropy()\n",
    "        return n*(DDS(c.p_y).get_entropy()-(H_Y-H_YX))\n",
    "    "
   ]
  },
  {
   "cell_type": "code",
   "execution_count": 2,
   "id": "6538b82b",
   "metadata": {},
   "outputs": [],
   "source": [
    "c = ChannelMatrix([\n",
    "    [0.15,0.25,0.6],\n",
    "    [0.35,0.25,0.4],\n",
    "    [0.49,0.5,0.01]\n",
    "],[0.2,0.2,0.6])"
   ]
  },
  {
   "cell_type": "code",
   "execution_count": 3,
   "id": "29b079cc",
   "metadata": {},
   "outputs": [
    {
     "data": {
      "text/latex": [
       "$\\displaystyle 1.37095059445467$"
      ],
      "text/plain": [
       "1.37095059445467"
      ]
     },
     "execution_count": 3,
     "metadata": {},
     "output_type": "execute_result"
    }
   ],
   "source": [
    "c.mean_information_per_symbol()"
   ]
  },
  {
   "cell_type": "code",
   "execution_count": 4,
   "id": "260962bd",
   "metadata": {},
   "outputs": [
    {
     "data": {
      "text/latex": [
       "$\\displaystyle \\left[\\begin{matrix}0.03 & 0.05 & 0.12\\\\0.07 & 0.05 & 0.08\\\\0.294 & 0.3 & 0.006\\end{matrix}\\right]$"
      ],
      "text/plain": [
       "Matrix([\n",
       "[ 0.03, 0.05,  0.12],\n",
       "[ 0.07, 0.05,  0.08],\n",
       "[0.294,  0.3, 0.006]])"
      ]
     },
     "execution_count": 4,
     "metadata": {},
     "output_type": "execute_result"
    }
   ],
   "source": [
    "c.M_YX()"
   ]
  },
  {
   "cell_type": "code",
   "execution_count": 5,
   "id": "927af374",
   "metadata": {},
   "outputs": [
    {
     "data": {
      "text/latex": [
       "$\\displaystyle 1.0$"
      ],
      "text/plain": [
       "1.00000000000000"
      ]
     },
     "execution_count": 5,
     "metadata": {},
     "output_type": "execute_result"
    }
   ],
   "source": [
    "sum(c.p_y)"
   ]
  },
  {
   "cell_type": "code",
   "execution_count": 6,
   "id": "cb4e6469",
   "metadata": {},
   "outputs": [
    {
     "data": {
      "text/plain": [
       "[0.394000000000000, 0.400000000000000, 0.206000000000000]"
      ]
     },
     "execution_count": 6,
     "metadata": {},
     "output_type": "execute_result"
    }
   ],
   "source": [
    "c.p_y"
   ]
  },
  {
   "cell_type": "code",
   "execution_count": 7,
   "id": "6372ac6c",
   "metadata": {},
   "outputs": [
    {
     "data": {
      "text/latex": [
       "$\\displaystyle 1.37095059445467$"
      ],
      "text/plain": [
       "1.37095059445467"
      ]
     },
     "execution_count": 7,
     "metadata": {},
     "output_type": "execute_result"
    }
   ],
   "source": [
    "DDS(c.p_x).get_entropy()"
   ]
  },
  {
   "cell_type": "code",
   "execution_count": 8,
   "id": "fccdf6c7",
   "metadata": {},
   "outputs": [
    {
     "data": {
      "text/latex": [
       "$\\displaystyle 1.22475137157655$"
      ],
      "text/plain": [
       "1.22475137157655"
      ]
     },
     "execution_count": 8,
     "metadata": {},
     "output_type": "execute_result"
    }
   ],
   "source": [
    "c.H_YX()"
   ]
  },
  {
   "cell_type": "code",
   "execution_count": 9,
   "id": "335dcb36",
   "metadata": {},
   "outputs": [
    {
     "data": {
      "text/plain": [
       "0.07678032766449228"
      ]
     },
     "execution_count": 9,
     "metadata": {},
     "output_type": "execute_result"
    }
   ],
   "source": [
    "dds1=DDS([0.2,0.3,0.4,0.1])\n",
    "dds1.redundancy()"
   ]
  },
  {
   "cell_type": "code",
   "execution_count": 10,
   "id": "7f98f781",
   "metadata": {},
   "outputs": [
    {
     "name": "stdout",
     "output_type": "stream",
     "text": [
      "AAAAAAABCCCCCCDDEEEEE\n",
      "symbols:  dict_keys(['A', 'B', 'C', 'D', 'E'])\n",
      "probabilities:  dict_values([7, 1, 6, 2, 5])\n",
      "symbols with codes {'A': '00', 'C': '01', 'E': '10', 'D': '110', 'B': '111'}\n",
      "Space usage before compression (in bits): 168\n",
      "Space usage after compression (in bits): 45\n",
      "Encoded output 000000000000001110101010101011101101010101010\n",
      "Decoded Output AAAAAAABCCCCCCDDEEEEE\n"
     ]
    }
   ],
   "source": [
    "#Optimal codes:\n",
    "# H_max = log2(n)\n",
    "# let H - an entropy of a DDS X\n",
    "# 1 - H/H_max - redundancy of the code X\n",
    "\n",
    "class Node:\n",
    "    def __init__(self, prob, symbol, left=None, right=None):\n",
    "        self.prob = prob\n",
    "        self.symbol = symbol\n",
    "        self.left = left\n",
    "        self.right = right\n",
    "        self.code = ''\n",
    "\n",
    "codes = dict()\n",
    "\n",
    "def Calculate_Codes(node, val=''):\n",
    "    newVal = val + str(node.code)\n",
    "\n",
    "    if(node.left):\n",
    "        Calculate_Codes(node.left, newVal)\n",
    "    if(node.right):\n",
    "        Calculate_Codes(node.right, newVal)\n",
    "\n",
    "    if(not node.left and not node.right):\n",
    "        codes[node.symbol] = newVal\n",
    "         \n",
    "    return codes        \n",
    "\n",
    "def Calculate_Probability(data):\n",
    "    symbols = dict()\n",
    "    for element in data:\n",
    "        if symbols.get(element) == None:\n",
    "            symbols[element] = 1\n",
    "        else: \n",
    "            symbols[element] += 1     \n",
    "    return symbols\n",
    "\n",
    "def Output_Encoded(data, coding):\n",
    "    encoding_output = []\n",
    "    for c in data:\n",
    "        encoding_output.append(coding[c])\n",
    "        \n",
    "    string = ''.join([str(item) for item in encoding_output])    \n",
    "    return string\n",
    "        \n",
    "def Total_Gain(data, coding):\n",
    "    before_compression = len(data) * 8 # total bit space to stor the data before compression\n",
    "    after_compression = 0\n",
    "    symbols = coding.keys()\n",
    "    for symbol in symbols:\n",
    "        count = data.count(symbol)\n",
    "        after_compression += count * len(coding[symbol]) #calculate how many bit is required for that symbol in total\n",
    "    print(\"Space usage before compression (in bits):\", before_compression)    \n",
    "    print(\"Space usage after compression (in bits):\",  after_compression)           \n",
    "\n",
    "def Huffman_Encoding(data):\n",
    "    symbol_with_probs = Calculate_Probability(data)\n",
    "    symbols = symbol_with_probs.keys()\n",
    "    probabilities = symbol_with_probs.values()\n",
    "    print(\"symbols: \", symbols)\n",
    "    print(\"probabilities: \", probabilities)\n",
    "    \n",
    "    nodes = []\n",
    "    for symbol in symbols:\n",
    "        nodes.append(Node(symbol_with_probs.get(symbol), symbol))\n",
    "    \n",
    "    while len(nodes) > 1:\n",
    "        nodes = sorted(nodes, key=lambda x: x.prob)\n",
    "        right = nodes[0]\n",
    "        left = nodes[1]\n",
    "    \n",
    "        left.code = 0\n",
    "        right.code = 1\n",
    "    \n",
    "        newNode = Node(left.prob+right.prob, left.symbol+right.symbol, left, right)\n",
    "    \n",
    "        nodes.remove(left)\n",
    "        nodes.remove(right)\n",
    "        nodes.append(newNode)\n",
    "            \n",
    "    huffman_encoding = Calculate_Codes(nodes[0])\n",
    "    print(\"symbols with codes\", huffman_encoding)\n",
    "    Total_Gain(data, huffman_encoding)\n",
    "    encoded_output = Output_Encoded(data,huffman_encoding)\n",
    "    return encoded_output, nodes[0]  \n",
    "    \n",
    "def Huffman_Decoding(encoded_data, huffman_tree):\n",
    "    tree_head = huffman_tree\n",
    "    decoded_output = []\n",
    "    for x in encoded_data:\n",
    "        if x == '1':\n",
    "            huffman_tree = huffman_tree.right   \n",
    "        elif x == '0':\n",
    "            huffman_tree = huffman_tree.left\n",
    "        try:\n",
    "            if huffman_tree.left.symbol == None and huffman_tree.right.symbol == None:\n",
    "                pass\n",
    "        except AttributeError:\n",
    "            decoded_output.append(huffman_tree.symbol)\n",
    "            huffman_tree = tree_head\n",
    "        \n",
    "    string = ''.join([str(item) for item in decoded_output])\n",
    "    return string        \n",
    "\n",
    "\n",
    "data = \"AAAAAAABCCCCCCDDEEEEE\"\n",
    "print(data)\n",
    "encoding, tree = Huffman_Encoding(data)\n",
    "print(\"Encoded output\", encoding)\n",
    "print(\"Decoded Output\", Huffman_Decoding(encoding,tree))"
   ]
  },
  {
   "cell_type": "code",
   "execution_count": 11,
   "id": "6da75174",
   "metadata": {},
   "outputs": [
    {
     "ename": "NameError",
     "evalue": "name 'Huffman' is not defined",
     "output_type": "error",
     "traceback": [
      "\u001b[1;31m---------------------------------------------------------------------------\u001b[0m",
      "\u001b[1;31mNameError\u001b[0m                                 Traceback (most recent call last)",
      "Cell \u001b[1;32mIn [11], line 4\u001b[0m\n\u001b[0;32m      1\u001b[0m dds2\u001b[38;5;241m=\u001b[39mDDS([\n\u001b[0;32m      2\u001b[0m     \u001b[38;5;241m0.46\u001b[39m,\u001b[38;5;241m0.3\u001b[39m,\u001b[38;5;241m0.12\u001b[39m,\u001b[38;5;241m0.06\u001b[39m,\u001b[38;5;241m0.03\u001b[39m,\u001b[38;5;241m0.02\u001b[39m,\u001b[38;5;241m0.01\u001b[39m\n\u001b[0;32m      3\u001b[0m ])\n\u001b[1;32m----> 4\u001b[0m h\u001b[38;5;241m=\u001b[39m\u001b[43mHuffman\u001b[49m(dds2)\n\u001b[0;32m      5\u001b[0m DDS(h\u001b[38;5;241m.\u001b[39moptimize())\u001b[38;5;241m.\u001b[39mget_entropy()\n",
      "\u001b[1;31mNameError\u001b[0m: name 'Huffman' is not defined"
     ]
    }
   ],
   "source": [
    "dds2=DDS([\n",
    "    0.46,0.3,0.12,0.06,0.03,0.02,0.01\n",
    "])\n",
    "h=Huffman(dds2)\n",
    "DDS(h.optimize()).get_entropy()"
   ]
  },
  {
   "cell_type": "code",
   "execution_count": 12,
   "id": "b4fac8a9",
   "metadata": {},
   "outputs": [
    {
     "data": {
      "text/plain": [
       "1.9781083861545001"
      ]
     },
     "execution_count": 12,
     "metadata": {},
     "output_type": "execute_result"
    }
   ],
   "source": [
    "dds2.get_entropy()"
   ]
  },
  {
   "cell_type": "markdown",
   "id": "691241ee",
   "metadata": {},
   "source": [
    "HW 3"
   ]
  },
  {
   "cell_type": "code",
   "execution_count": 13,
   "id": "090f4cf5",
   "metadata": {},
   "outputs": [
    {
     "ename": "NameError",
     "evalue": "name 'Huffman' is not defined",
     "output_type": "error",
     "traceback": [
      "\u001b[1;31m---------------------------------------------------------------------------\u001b[0m",
      "\u001b[1;31mNameError\u001b[0m                                 Traceback (most recent call last)",
      "Cell \u001b[1;32mIn [13], line 8\u001b[0m\n\u001b[0;32m      1\u001b[0m dds3\u001b[38;5;241m=\u001b[39mDDS({\n\u001b[0;32m      2\u001b[0m     \u001b[38;5;124m\"\u001b[39m\u001b[38;5;124mx1\u001b[39m\u001b[38;5;124m\"\u001b[39m:\u001b[38;5;241m0.2\u001b[39m,\n\u001b[0;32m      3\u001b[0m     \u001b[38;5;124m\"\u001b[39m\u001b[38;5;124mx2\u001b[39m\u001b[38;5;124m\"\u001b[39m:\u001b[38;5;241m0.2\u001b[39m,\n\u001b[1;32m   (...)\u001b[0m\n\u001b[0;32m      6\u001b[0m     \u001b[38;5;124m\"\u001b[39m\u001b[38;5;124mx5\u001b[39m\u001b[38;5;124m\"\u001b[39m:\u001b[38;5;241m0.05\u001b[39m\n\u001b[0;32m      7\u001b[0m })\n\u001b[1;32m----> 8\u001b[0m huf\u001b[38;5;241m=\u001b[39m\u001b[43mHuffman\u001b[49m(dds3)\n\u001b[0;32m      9\u001b[0m huf\u001b[38;5;241m.\u001b[39moptimize(include_syms\u001b[38;5;241m=\u001b[39m\u001b[38;5;28;01mTrue\u001b[39;00m)\n",
      "\u001b[1;31mNameError\u001b[0m: name 'Huffman' is not defined"
     ]
    }
   ],
   "source": [
    "dds3=DDS({\n",
    "    \"x1\":0.2,\n",
    "    \"x2\":0.2,\n",
    "    \"x3\":0.4,\n",
    "    \"x4\":0.15,\n",
    "    \"x5\":0.05\n",
    "})\n",
    "huf=Huffman(dds3)\n",
    "huf.optimize(include_syms=True)"
   ]
  },
  {
   "cell_type": "code",
   "execution_count": 14,
   "id": "7915472d",
   "metadata": {},
   "outputs": [
    {
     "ename": "NameError",
     "evalue": "name 'huf' is not defined",
     "output_type": "error",
     "traceback": [
      "\u001b[1;31m---------------------------------------------------------------------------\u001b[0m",
      "\u001b[1;31mNameError\u001b[0m                                 Traceback (most recent call last)",
      "Cell \u001b[1;32mIn [14], line 1\u001b[0m\n\u001b[1;32m----> 1\u001b[0m \u001b[43mhuf\u001b[49m\u001b[38;5;241m.\u001b[39mR()\n",
      "\u001b[1;31mNameError\u001b[0m: name 'huf' is not defined"
     ]
    }
   ],
   "source": [
    "huf.R()"
   ]
  },
  {
   "cell_type": "code",
   "execution_count": 15,
   "id": "7cba5fab",
   "metadata": {},
   "outputs": [
    {
     "data": {
      "text/plain": [
       "2.084183719779189"
      ]
     },
     "execution_count": 15,
     "metadata": {},
     "output_type": "execute_result"
    }
   ],
   "source": [
    "dds3.get_entropy()"
   ]
  },
  {
   "cell_type": "code",
   "execution_count": 16,
   "id": "7126d0bc",
   "metadata": {},
   "outputs": [
    {
     "ename": "NameError",
     "evalue": "name 'huf' is not defined",
     "output_type": "error",
     "traceback": [
      "\u001b[1;31m---------------------------------------------------------------------------\u001b[0m",
      "\u001b[1;31mNameError\u001b[0m                                 Traceback (most recent call last)",
      "Cell \u001b[1;32mIn [16], line 2\u001b[0m\n\u001b[0;32m      1\u001b[0m \u001b[38;5;66;03m#Efficiency\u001b[39;00m\n\u001b[1;32m----> 2\u001b[0m \u001b[43mhuf\u001b[49m\u001b[38;5;241m.\u001b[39mmu()\n",
      "\u001b[1;31mNameError\u001b[0m: name 'huf' is not defined"
     ]
    }
   ],
   "source": [
    "#Efficiency\n",
    "huf.mu()"
   ]
  },
  {
   "cell_type": "code",
   "execution_count": 17,
   "id": "ab0e4fbc",
   "metadata": {},
   "outputs": [
    {
     "data": {
      "text/plain": [
       "1.8146187299249081"
      ]
     },
     "execution_count": 17,
     "metadata": {},
     "output_type": "execute_result"
    }
   ],
   "source": [
    "DDS([\n",
    "    0.01,0.04,0.05,0.04,0.16,0.2,0.05,0.2,0.25\n",
    "]).get_entropy()/1.5"
   ]
  },
  {
   "cell_type": "code",
   "execution_count": 18,
   "id": "dfebc27f",
   "metadata": {},
   "outputs": [
    {
     "data": {
      "text/plain": [
       "2.53"
      ]
     },
     "execution_count": 18,
     "metadata": {},
     "output_type": "execute_result"
    }
   ],
   "source": [
    "6*0.01+6*0.04+5*0.05+5*0.04+3*0.16+2*0.2+5*0.05+2*0.2+0.25"
   ]
  },
  {
   "cell_type": "code",
   "execution_count": 19,
   "id": "66e0b8a6",
   "metadata": {},
   "outputs": [
    {
     "data": {
      "text/plain": [
       "0.7173913043478262"
      ]
     },
     "execution_count": 19,
     "metadata": {},
     "output_type": "execute_result"
    }
   ],
   "source": [
    "1.815/2.53"
   ]
  },
  {
   "cell_type": "code",
   "execution_count": 20,
   "id": "f6b65287",
   "metadata": {},
   "outputs": [
    {
     "data": {
      "text/plain": [
       "'0b10011001111'"
      ]
     },
     "execution_count": 20,
     "metadata": {},
     "output_type": "execute_result"
    }
   ],
   "source": [
    "bin(1231)"
   ]
  },
  {
   "cell_type": "code",
   "execution_count": 285,
   "id": "1d585bbb",
   "metadata": {},
   "outputs": [
    {
     "data": {
      "text/plain": [
       "1365"
      ]
     },
     "execution_count": 285,
     "metadata": {},
     "output_type": "execute_result"
    }
   ],
   "source": [
    "int(\"111111\",4)"
   ]
  },
  {
   "cell_type": "code",
   "execution_count": 277,
   "id": "7c6295be",
   "metadata": {},
   "outputs": [
    {
     "data": {
      "text/plain": [
       "'0b1101101'"
      ]
     },
     "execution_count": 277,
     "metadata": {},
     "output_type": "execute_result"
    }
   ],
   "source": [
    "bin(109)"
   ]
  },
  {
   "cell_type": "code",
   "execution_count": 25,
   "id": "8ae3ab97",
   "metadata": {},
   "outputs": [],
   "source": [
    "s=\"кодуваннякодудекодування\"\n",
    "sym=dict()\n",
    "for x in s:\n",
    "    if x in sym:\n",
    "        sym[x]+=1\n",
    "    else:\n",
    "        sym[x]=1"
   ]
  },
  {
   "cell_type": "code",
   "execution_count": 32,
   "id": "3b4ef750",
   "metadata": {},
   "outputs": [
    {
     "data": {
      "text/plain": [
       "24"
      ]
     },
     "execution_count": 32,
     "metadata": {},
     "output_type": "execute_result"
    }
   ],
   "source": [
    "len(s)"
   ]
  },
  {
   "cell_type": "code",
   "execution_count": 27,
   "id": "1496615b",
   "metadata": {},
   "outputs": [
    {
     "data": {
      "text/plain": [
       "{'к': 3, 'о': 3, 'д': 4, 'у': 3, 'в': 2, 'а': 2, 'н': 4, 'я': 2, 'е': 1}"
      ]
     },
     "execution_count": 27,
     "metadata": {},
     "output_type": "execute_result"
    }
   ],
   "source": [
    "sym"
   ]
  },
  {
   "cell_type": "code",
   "execution_count": 28,
   "id": "7ba04488",
   "metadata": {},
   "outputs": [],
   "source": [
    "for x in sym:\n",
    "    sym[x]/=len(s)\n",
    "\n"
   ]
  },
  {
   "cell_type": "code",
   "execution_count": 29,
   "id": "92a7eea6",
   "metadata": {},
   "outputs": [
    {
     "data": {
      "text/plain": [
       "[('д', 0.16666666666666666),\n",
       " ('н', 0.16666666666666666),\n",
       " ('к', 0.125),\n",
       " ('о', 0.125),\n",
       " ('у', 0.125),\n",
       " ('в', 0.08333333333333333),\n",
       " ('а', 0.08333333333333333),\n",
       " ('я', 0.08333333333333333),\n",
       " ('е', 0.041666666666666664)]"
      ]
     },
     "execution_count": 29,
     "metadata": {},
     "output_type": "execute_result"
    }
   ],
   "source": [
    "sorted([(x,sym[x]) for x in sym],key=operator.itemgetter(1),reverse=True)"
   ]
  },
  {
   "cell_type": "code",
   "execution_count": 30,
   "id": "c30e5cf1",
   "metadata": {},
   "outputs": [],
   "source": [
    "l=list(sym.values())"
   ]
  },
  {
   "cell_type": "code",
   "execution_count": 34,
   "id": "7e523228",
   "metadata": {},
   "outputs": [
    {
     "data": {
      "text/plain": [
       "3.073934896284056"
      ]
     },
     "execution_count": 34,
     "metadata": {},
     "output_type": "execute_result"
    }
   ],
   "source": [
    "DDS(list(sym.values())).get_entropy()"
   ]
  },
  {
   "cell_type": "code",
   "execution_count": 42,
   "id": "1e57e07e",
   "metadata": {},
   "outputs": [
    {
     "data": {
      "text/plain": [
       "1.3219280948873622"
      ]
     },
     "execution_count": 42,
     "metadata": {},
     "output_type": "execute_result"
    }
   ],
   "source": [
    "n=0.4\n",
    "-log2(n)"
   ]
  },
  {
   "cell_type": "code",
   "execution_count": 312,
   "id": "7b4dbbb9",
   "metadata": {},
   "outputs": [
    {
     "data": {
      "text/plain": [
       "2.228212945841001"
      ]
     },
     "execution_count": 312,
     "metadata": {},
     "output_type": "execute_result"
    }
   ],
   "source": [
    "DDS([\n",
    "    0.3,0.1,0.25,0.15,0.2\n",
    "]).get_entropy()"
   ]
  },
  {
   "cell_type": "code",
   "execution_count": 313,
   "id": "f93259d9",
   "metadata": {},
   "outputs": [
    {
     "data": {
      "text/plain": [
       "4.691339796927515"
      ]
     },
     "execution_count": 313,
     "metadata": {},
     "output_type": "execute_result"
    }
   ],
   "source": [
    "2**2.23"
   ]
  },
  {
   "cell_type": "code",
   "execution_count": 314,
   "id": "a9431ca9",
   "metadata": {},
   "outputs": [
    {
     "data": {
      "text/plain": [
       "2.321928094887362"
      ]
     },
     "execution_count": 314,
     "metadata": {},
     "output_type": "execute_result"
    }
   ],
   "source": [
    "log2(5)"
   ]
  },
  {
   "cell_type": "code",
   "execution_count": 318,
   "id": "d5d1b1d1",
   "metadata": {},
   "outputs": [
    {
     "data": {
      "text/plain": [
       "'0b101'"
      ]
     },
     "execution_count": 318,
     "metadata": {},
     "output_type": "execute_result"
    }
   ],
   "source": [
    "bin(5)"
   ]
  },
  {
   "cell_type": "code",
   "execution_count": 16,
   "id": "d5eecfe6",
   "metadata": {},
   "outputs": [
    {
     "data": {
      "text/plain": [
       "1.5277342832866418"
      ]
     },
     "execution_count": 16,
     "metadata": {},
     "output_type": "execute_result"
    }
   ],
   "source": [
    "DDS([\n",
    "    0.394,0.4,0.206\n",
    "]).get_entropy()"
   ]
  },
  {
   "cell_type": "code",
   "execution_count": null,
   "id": "c0289474",
   "metadata": {},
   "outputs": [],
   "source": []
  }
 ],
 "metadata": {
  "kernelspec": {
   "display_name": "Python 3 (ipykernel)",
   "language": "python",
   "name": "python3"
  },
  "language_info": {
   "codemirror_mode": {
    "name": "ipython",
    "version": 3
   },
   "file_extension": ".py",
   "mimetype": "text/x-python",
   "name": "python",
   "nbconvert_exporter": "python",
   "pygments_lexer": "ipython3",
   "version": "3.10.7"
  }
 },
 "nbformat": 4,
 "nbformat_minor": 5
}
