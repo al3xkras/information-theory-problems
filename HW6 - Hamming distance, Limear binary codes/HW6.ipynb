{
 "cells": [
  {
   "cell_type": "code",
   "execution_count": 29,
   "id": "5b79430d",
   "metadata": {},
   "outputs": [],
   "source": [
    "import sympy as sp\n",
    "import math\n",
    "from IPython.display import display"
   ]
  },
  {
   "cell_type": "markdown",
   "id": "631808ec",
   "metadata": {},
   "source": [
    "![](images/2.png)"
   ]
  },
  {
   "cell_type": "code",
   "execution_count": 55,
   "id": "f87fe980",
   "metadata": {},
   "outputs": [
    {
     "data": {
      "text/latex": [
       "$\\displaystyle \\left[\\begin{matrix}1 & 0 & 1 & 1 & 0\\\\1 & 1 & 0 & 1 & 0\\\\0 & 1 & 0 & 0 & 1\\end{matrix}\\right]$"
      ],
      "text/plain": [
       "Matrix([\n",
       "[1, 0, 1, 1, 0],\n",
       "[1, 1, 0, 1, 0],\n",
       "[0, 1, 0, 0, 1]])"
      ]
     },
     "execution_count": 55,
     "metadata": {},
     "output_type": "execute_result"
    }
   ],
   "source": [
    "G = sp.Matrix([\n",
    "    [1,0,1,1,0],\n",
    "    [1,1,0,1,0],\n",
    "    [0,1,0,0,1]\n",
    "])\n",
    "G"
   ]
  },
  {
   "cell_type": "markdown",
   "id": "676eddeb",
   "metadata": {},
   "source": [
    "![](images/1.png)"
   ]
  },
  {
   "cell_type": "code",
   "execution_count": 56,
   "id": "624a1261",
   "metadata": {},
   "outputs": [
    {
     "name": "stdout",
     "output_type": "stream",
     "text": [
      "G (systematic form) =\n"
     ]
    },
    {
     "data": {
      "text/latex": [
       "$\\displaystyle \\left[\\begin{matrix}1 & 0 & 0 & 1 & 1\\\\0 & 1 & 0 & 0 & 1\\\\0 & 0 & 1 & 0 & 1\\end{matrix}\\right]$"
      ],
      "text/plain": [
       "Matrix([\n",
       "[1, 0, 0, 1, 1],\n",
       "[0, 1, 0, 0, 1],\n",
       "[0, 0, 1, 0, 1]])"
      ]
     },
     "metadata": {},
     "output_type": "display_data"
    }
   ],
   "source": [
    "G[1,:]-=G[0,:]\n",
    "G[2,:]-=G[1,:]\n",
    "G[0,:]-=G[2,:]\n",
    "G[1,:]-=G[2,:]\n",
    "G=G.applyfunc(lambda x: x%2)\n",
    "print(\"G (systematic form) =\")\n",
    "display(G)"
   ]
  },
  {
   "cell_type": "markdown",
   "id": "78ff2a6f",
   "metadata": {},
   "source": [
    "![](images/3.png)"
   ]
  },
  {
   "cell_type": "code",
   "execution_count": 57,
   "id": "b57c2b25",
   "metadata": {},
   "outputs": [
    {
     "name": "stdout",
     "output_type": "stream",
     "text": [
      "H = \n"
     ]
    },
    {
     "data": {
      "text/latex": [
       "$\\displaystyle \\left[\\begin{matrix}1 & 0 & 0 & 1 & 0\\\\1 & 1 & 1 & 0 & 1\\end{matrix}\\right]$"
      ],
      "text/plain": [
       "Matrix([\n",
       "[1, 0, 0, 1, 0],\n",
       "[1, 1, 1, 0, 1]])"
      ]
     },
     "metadata": {},
     "output_type": "display_data"
    }
   ],
   "source": [
    "A=G[:,3:]\n",
    "A=-A.transpose()\n",
    "\n",
    "#display(A)\n",
    "H = sp.diag(*[1]*A.shape[0])\n",
    "H=H.col_insert(0,A)\n",
    "H=H.applyfunc(lambda x: x%2)\n",
    "print(\"H = \")\n",
    "display(H)"
   ]
  },
  {
   "cell_type": "markdown",
   "id": "d66581cd",
   "metadata": {},
   "source": [
    "![](images/4.png)"
   ]
  },
  {
   "cell_type": "code",
   "execution_count": 70,
   "id": "5e587267",
   "metadata": {},
   "outputs": [
    {
     "name": "stdout",
     "output_type": "stream",
     "text": [
      "C = {v_i, i=1,4}\n",
      "v1=\n"
     ]
    },
    {
     "data": {
      "text/latex": [
       "$\\displaystyle \\left[\\begin{matrix}0 & 0 & 0 & 0 & 0\\end{matrix}\\right]$"
      ],
      "text/plain": [
       "Matrix([[0, 0, 0, 0, 0]])"
      ]
     },
     "metadata": {},
     "output_type": "display_data"
    },
    {
     "name": "stdout",
     "output_type": "stream",
     "text": [
      "v2=\n"
     ]
    },
    {
     "data": {
      "text/latex": [
       "$\\displaystyle \\left[\\begin{matrix}1 & 0 & 0 & 1 & 0\\end{matrix}\\right]$"
      ],
      "text/plain": [
       "Matrix([[1, 0, 0, 1, 0]])"
      ]
     },
     "metadata": {},
     "output_type": "display_data"
    },
    {
     "name": "stdout",
     "output_type": "stream",
     "text": [
      "v3=\n"
     ]
    },
    {
     "data": {
      "text/latex": [
       "$\\displaystyle \\left[\\begin{matrix}1 & 1 & 1 & 0 & 1\\end{matrix}\\right]$"
      ],
      "text/plain": [
       "Matrix([[1, 1, 1, 0, 1]])"
      ]
     },
     "metadata": {},
     "output_type": "display_data"
    },
    {
     "name": "stdout",
     "output_type": "stream",
     "text": [
      "v4=\n"
     ]
    },
    {
     "data": {
      "text/latex": [
       "$\\displaystyle \\left[\\begin{matrix}0 & 1 & 1 & 1 & 1\\end{matrix}\\right]$"
      ],
      "text/plain": [
       "Matrix([[0, 1, 1, 1, 1]])"
      ]
     },
     "metadata": {},
     "output_type": "display_data"
    }
   ],
   "source": [
    "C_T = [H[0,:]+H[0,:],H[0,:],H[1,:],H[0,:]+H[1,:]]\n",
    "f=lambda a: a%2\n",
    "C_T = list(map(lambda x: x.applyfunc(f),C_T))\n",
    "\n",
    "print(\"C = {v_i, i=1,4}\")\n",
    "i=0\n",
    "for v in C_T:\n",
    "    i+=1\n",
    "    print(\"v%s=\"%i)\n",
    "    display(v)"
   ]
  },
  {
   "cell_type": "markdown",
   "id": "fa148bd6",
   "metadata": {},
   "source": [
    "![](images/5.png)"
   ]
  },
  {
   "cell_type": "markdown",
   "id": "1644c4a9",
   "metadata": {},
   "source": [
    "Нехай деяке слово має парну вагу Хемінга\n",
    "\n",
    "Тоді:\n",
    "1. довільна лінійна комбінація даного слова з іншим парної ваги має непарну вагу\n",
    "2. довільна лінійна комбінація даного слова з іншим непарної ваги має парну вагу\n",
    "\n",
    "=>\n",
    "якщо існує к слів непарної ваги, а код містить усього n слів, то \n",
    "- (2**k)/2 - кількість всіх можливих лінійних комбінацій слів непарної довжини, які є словами непарної довжини\n",
    "- (2**k)/2 - кількість всіх можливих лінійних комбінацій слів непарної довжини, які є словами парної довжини\n",
    "- 2**(n-k) - кількість всіх можливих лінійних комбінацій слів парної довжини, які є словами парної довжини\n",
    "- 0 - кількість всіх можливих лінійних комбінацій слів парної довжини, які є словами непарної довжини\n",
    "=>\n",
    "\n",
    "> Кількість можливих лінійних комбінацій довільних слів, які є словами парної довжини:\n",
    "> $\\newline 2^{n-k}*2^{k-1}$\n",
    "\n",
    "> Кількість можливих лінійних комбінацій довільних слів, які є словами непарної довжини:\n",
    "> $\\newline 2^{k-1}*2^{n-k}$\n",
    "\n",
    "Отже, бінарний лінійний код містить однакову кількість слів парної і непарної довжини\n",
    "\n",
    "> Якщо код не містить слів непарної довжини, доведення є очевидним\n"
   ]
  },
  {
   "cell_type": "markdown",
   "id": "c91a7361",
   "metadata": {},
   "source": [
    "![](images/6.png)"
   ]
  },
  {
   "cell_type": "markdown",
   "id": "920d7e59",
   "metadata": {},
   "source": [
    "$X = \\{a_1, ..., a_k, b_k, ..., b_{n}\\}$\n",
    "- $a_1, ..., a_k$ - фіксовані\n",
    "\n",
    "=> Базис бінарного лінійного коду містить вектор $a_1, ..., a_k, 0, 0,.., 0$\n",
    "\n",
    "=> Для визначення всіх можливих кодів з одноелементним базисом, Необхідно обрати значення останніх n-k координат базисного вектора.\n",
    "\n",
    "Таких кодів усього існує $2^{n-k}$\n",
    "\n",
    "$ \\exists! \\space \\alpha_1, ..., \\alpha_k: \\sum\\limits_{i=0}^{k}{v_k\\alpha_k} = \\{a_1, a_2, ..., a_k, ...\\}$\n",
    "\n",
    "Тоді $\\sum\\limits_{i=0}^{k}{a_k\\alpha_k}$ дорівнює деякому вектору із к-елементного базису, і для довільної множини\n",
    "коефіцієнтів існує рівно один базис, для якого виконується рівність $\\sum\\limits_{i=0}^{k}{a_k\\alpha_k} = \\{a_1, a_2, ..., a_k, ...\\}$ (система к лінійних рівнянь з к змінними)\n",
    "\n",
    "Отже загальна кількість базисів (різних бінарних лінійних кодів) рівна $2^{n-k}*2^{k}*2^{k-1}*...*2^{1} = 2^{(n-k)k!}$\n"
   ]
  },
  {
   "cell_type": "markdown",
   "id": "a9ebeb62",
   "metadata": {},
   "source": [
    "![](images/7.png)"
   ]
  },
  {
   "cell_type": "code",
   "execution_count": 83,
   "id": "c023a844",
   "metadata": {},
   "outputs": [
    {
     "data": {
      "text/plain": [
       "'G1'"
      ]
     },
     "metadata": {},
     "output_type": "display_data"
    },
    {
     "data": {
      "text/latex": [
       "$\\displaystyle \\left[\\begin{matrix}1 & 1 & 0 & 0 & 0\\\\0 & 1 & 1 & 0 & 0\\\\0 & 0 & 1 & 1 & 0\\\\0 & 0 & 0 & 1 & 1\\end{matrix}\\right]$"
      ],
      "text/plain": [
       "Matrix([\n",
       "[1, 1, 0, 0, 0],\n",
       "[0, 1, 1, 0, 0],\n",
       "[0, 0, 1, 1, 0],\n",
       "[0, 0, 0, 1, 1]])"
      ]
     },
     "metadata": {},
     "output_type": "display_data"
    },
    {
     "data": {
      "text/plain": [
       "'G1 (standard form)'"
      ]
     },
     "metadata": {},
     "output_type": "display_data"
    },
    {
     "data": {
      "text/latex": [
       "$\\displaystyle \\left[\\begin{matrix}1 & 0 & 0 & 0 & 1\\\\0 & 1 & 0 & 0 & 1\\\\0 & 0 & 1 & 0 & 1\\\\0 & 0 & 0 & 1 & 1\\end{matrix}\\right]$"
      ],
      "text/plain": [
       "Matrix([\n",
       "[1, 0, 0, 0, 1],\n",
       "[0, 1, 0, 0, 1],\n",
       "[0, 0, 1, 0, 1],\n",
       "[0, 0, 0, 1, 1]])"
      ]
     },
     "metadata": {},
     "output_type": "display_data"
    },
    {
     "data": {
      "text/plain": [
       "'G2'"
      ]
     },
     "metadata": {},
     "output_type": "display_data"
    },
    {
     "data": {
      "text/latex": [
       "$\\displaystyle \\left[\\begin{matrix}1 & 0 & 0 & 1 & 0\\\\0 & 1 & 1 & 0 & 1\\\\0 & 0 & 0 & 1 & 0\\\\1 & 0 & 1 & 0 & 0\\end{matrix}\\right]$"
      ],
      "text/plain": [
       "Matrix([\n",
       "[1, 0, 0, 1, 0],\n",
       "[0, 1, 1, 0, 1],\n",
       "[0, 0, 0, 1, 0],\n",
       "[1, 0, 1, 0, 0]])"
      ]
     },
     "metadata": {},
     "output_type": "display_data"
    },
    {
     "data": {
      "text/plain": [
       "'G2 (standard form)'"
      ]
     },
     "metadata": {},
     "output_type": "display_data"
    },
    {
     "data": {
      "text/latex": [
       "$\\displaystyle \\left[\\begin{matrix}1 & 0 & 0 & 0 & 0\\\\0 & 1 & 0 & 0 & 1\\\\0 & 0 & 1 & 0 & 0\\\\0 & 0 & 0 & 1 & 0\\end{matrix}\\right]$"
      ],
      "text/plain": [
       "Matrix([\n",
       "[1, 0, 0, 0, 0],\n",
       "[0, 1, 0, 0, 1],\n",
       "[0, 0, 1, 0, 0],\n",
       "[0, 0, 0, 1, 0]])"
      ]
     },
     "metadata": {},
     "output_type": "display_data"
    },
    {
     "name": "stdout",
     "output_type": "stream",
     "text": [
      "G1 != G2 (standard forms) => \n",
      "Linear codes are not equivalent\n"
     ]
    }
   ],
   "source": [
    "G1 = sp.Matrix([\n",
    "    [1,1,0,0,0],\n",
    "    [0,1,1,0,0],\n",
    "    [0,0,1,1,0],\n",
    "    [0,0,0,1,1]\n",
    "])\n",
    "G2 = sp.Matrix([\n",
    "    [1,0,0,1,0],\n",
    "    [0,1,1,0,1],\n",
    "    [0,0,0,1,0],\n",
    "    [1,0,1,0,0]\n",
    "])\n",
    "\n",
    "\n",
    "display(\"G1\",G1)\n",
    "G1[2,:]-=G1[3,:]\n",
    "G1[1,:]-=G1[2,:]\n",
    "G1[0,:]-=G1[1,:]\n",
    "G1=G1.applyfunc(lambda x: x%2)\n",
    "display(\"G1 (standard form)\",G1)\n",
    "display(\"G2\",G2)\n",
    "\n",
    "G2[3,:]-=G2[0,:]\n",
    "G2=G2.applyfunc(lambda x: x%2)\n",
    "G2[2,:],G2[3,:]=G2[3,:],G2[2,:]\n",
    "G2[2,:]-=G2[3,:]\n",
    "G2[1,:]-=G2[2,:]\n",
    "G2[0,:]-=G2[3,:]\n",
    "\n",
    "display(\"G2 (standard form)\",G2)\n",
    "print(\"G1 != G2 (standard forms) => \")\n",
    "print(\"Linear codes are not equivalent\")"
   ]
  },
  {
   "cell_type": "code",
   "execution_count": null,
   "id": "0fdd833c",
   "metadata": {},
   "outputs": [],
   "source": []
  }
 ],
 "metadata": {
  "kernelspec": {
   "display_name": "Python 3 (ipykernel)",
   "language": "python",
   "name": "python3"
  },
  "language_info": {
   "codemirror_mode": {
    "name": "ipython",
    "version": 3
   },
   "file_extension": ".py",
   "mimetype": "text/x-python",
   "name": "python",
   "nbconvert_exporter": "python",
   "pygments_lexer": "ipython3",
   "version": "3.10.7"
  }
 },
 "nbformat": 4,
 "nbformat_minor": 5
}
