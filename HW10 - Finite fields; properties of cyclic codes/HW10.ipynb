{
 "cells": [
  {
   "cell_type": "code",
   "execution_count": 1,
   "id": "d18e3d78",
   "metadata": {},
   "outputs": [],
   "source": [
    "import sympy as sp\n",
    "import math\n",
    "from IPython.display import display"
   ]
  },
  {
   "cell_type": "markdown",
   "id": "67f24e5f",
   "metadata": {},
   "source": [
    "![](images/1.png)"
   ]
  },
  {
   "cell_type": "markdown",
   "id": "c5b342be",
   "metadata": {},
   "source": [
    "$C = \\{a_1a_2a_3a_4 \\space|\\space a_i \\in \\mathbb{F}_3, i=\\overline{1,4}\\}$\n",
    "\n",
    "Нехай $h(c), c \\in C$- циклічний зсув $c$ (відображення $h: C \\rightarrow C$)\n",
    "\n",
    "$\\Rightarrow \\forall c=a_1a_2a_3a_4 \\in C: h(c) = a_4a_1a_2a_3 \\in C\\newline\n",
    "\\Rightarrow $ Код $С$ є циклічним"
   ]
  },
  {
   "cell_type": "markdown",
   "id": "1726e95d",
   "metadata": {},
   "source": [
    "![](images/2.png)"
   ]
  },
  {
   "cell_type": "markdown",
   "id": "aa808a93",
   "metadata": {},
   "source": [
    "$C = \\{a_1a_2a_3...a_n \\space|\\space a_i \\in \\mathbb{F}_2, i=\\overline{1,n}\\}$ - циклічний бінарний код\n",
    "\n",
    "Нехай $h(c), c \\in C$- циклічний зсув $c$ (відображення $h: C \\rightarrow C$),\n",
    "\n",
    "$\\newline f(c): a_1a_2a_3...a_n \\rightarrow a_1a_2a_3...a_na_{n+1}; \\space\\space\\space a_{n+1} = \\sum\\limits_{i=0}^{n}{a_i}(mod \\space2)$\n",
    "\n",
    "Нехай $C_1 = \\{\\space f(c) \\space\\space|\\space c \\in C \\space\\};$\n",
    "\n",
    "$c = a_1a_2a_3...a_na_{n+1} \\in C_1\\newline\n",
    "\\Rightarrow \\space h(c) = a_{n+1}a_1a_2a_3...a_n \\in C_1,\\newline\n",
    "a_{n+1}a_1a_2a_3...a_{n-1} \\in C\\newline\\$\n",
    "\n",
    "1. Нехай $a_{n+1}=1 \\Longleftrightarrow $ Кожне кодове слово $C$ містить непарну кількість одиничних координат \n",
    "\n",
    "$\\Rightarrow (a_{n+1}a_1a_2a_3...a_{n-1} \\in C) \\Longleftrightarrow (a_n = 1)$ (Інакше кількість одиничних координат є парною, і слово не належить коду)\n",
    "\n",
    "Повторюючи дану операцію, отримаємо:\n",
    "\n",
    "$a_n = 1, a_{n-1} = 1, ..., a_1 = 1$\n",
    "\n",
    "Тобто, $C = \\{111....1\\}\\newline\\newline$\n",
    "\n",
    "\n",
    "2. Нехай $a_{n+1}=0 \\Longleftrightarrow $ Кожне кодове слово $C$ містить парну кількість одиничних координат $\\newline$ \n",
    "    1. $C = \\{000....0\\} \\Rightarrow C_1$ є циклічним $\\newline$\n",
    "    2. $C \\neq \\{000....0\\}$\n",
    "\n",
    "Якщо $C \\neq \\{000....0\\} \\Rightarrow \\text{Для деякого циклічного зсуву}: (a_1a_2a_3...a_{n} \\in C):  (a_{n} = 1)$\n",
    "\n",
    "$\n",
    "\\text{Тобто, } a_{n+1}a_1a_2a_3...a_{n-1} \\text{ містить парну кількість координат, і не належить коду } C, \\text{ що є суперечністю.}\\newline\\newline\n",
    "$\n",
    "\n",
    "$\\text{Отже, }С_1 \\text{ є циклічним кодом } \\Longleftrightarrow\\newline$\n",
    "\n",
    "$\\begin{align}\n",
    "\\left[\n",
    "\\begin{array}{ll}\n",
    "    C = \\{a_1a_2a_3...a_n \\space|\\space a_i=0\\space \\forall i=\\overline{1,n}\\} \\\\\n",
    "    C = \\{a_1a_2a_3...a_n \\space|\\space a_i=1\\space \\forall i=\\overline{1,n}\\},\\space n \\equiv 1 \\space (mod\\space 2)\n",
    "\\end{array}\n",
    "\\right .\n",
    "\\end{align}$"
   ]
  },
  {
   "cell_type": "markdown",
   "id": "c45ca683",
   "metadata": {},
   "source": [
    "![](images/3.png)"
   ]
  },
  {
   "cell_type": "markdown",
   "id": "b68f1e9e",
   "metadata": {},
   "source": [
    "$g(x) = x^4 + x + 1$\n",
    "\n",
    "Бінарний циклічний код Хемінга: $(2^m-1,2^m-m-1,m): 2^m \\geq ord(g(x))=4 \\Rightarrow m = 3$\n",
    "\n",
    "$\\Rightarrow G = G_{7x3}, g(x) \\leftrightarrow 0010011$\n",
    "\n",
    "Перевірочний многочлен: $h(g)*g(x) = (x^7-1)\\mathbb{F}_2[x]$ - добуток породжуючого і твірного многочленів циклічного коду належить ідеалу $(x^7-1)$\n",
    "\n",
    "Побудуємо відображення: $\\phi: \\mathbb{F}_2[x]/(x^7-1) \\longrightarrow \\mathbb{Z}_{2^8}^*$, як відображення многочлена у його двійковий запис (дане відображення є бієкцією, тому вищенаведені групи - ізоморфні)\n",
    "\n",
    "Тоді $\\phi(g(x)) = 0010011 = 19 \\in \\mathbb{Z}_{256}$\n",
    "\n",
    "Обернений елемент: $19^{-1} = 27 = 00011011. \\space \\phi^{-1}(27) = x^4+x^3+x+1$\n",
    "\n",
    "Тобто, перевірочний многочлен даного коду: $h(x) = x^4+x^3+x+1 $"
   ]
  },
  {
   "cell_type": "markdown",
   "id": "2dad9bed",
   "metadata": {},
   "source": [
    "![](images/4.png)"
   ]
  },
  {
   "cell_type": "markdown",
   "id": "9678ec58",
   "metadata": {},
   "source": [
    "$g(x) = (x+1)(1+x+1^3)$"
   ]
  },
  {
   "cell_type": "code",
   "execution_count": 27,
   "id": "0e7e0df4",
   "metadata": {},
   "outputs": [
    {
     "data": {
      "text/latex": [
       "$\\displaystyle x^{4} + x^{3} + x^{2} + 2 x + 1$"
      ],
      "text/plain": [
       "x**4 + x**3 + x**2 + 2*x + 1"
      ]
     },
     "metadata": {},
     "output_type": "display_data"
    }
   ],
   "source": [
    "x=sp.symbols(\"x\")\n",
    "g=(x**3+x+1)*(x+1)\n",
    "g=g.apart(x)\n",
    "display(g)"
   ]
  },
  {
   "cell_type": "markdown",
   "id": "9d5d431e",
   "metadata": {},
   "source": [
    "$g(x) \\rightarrow 0011101 $"
   ]
  },
  {
   "cell_type": "code",
   "execution_count": 34,
   "id": "d8fa90d2",
   "metadata": {},
   "outputs": [
    {
     "data": {
      "text/plain": [
       "'G, породжуюча матриця'"
      ]
     },
     "metadata": {},
     "output_type": "display_data"
    },
    {
     "data": {
      "text/latex": [
       "$\\displaystyle \\left[\\begin{matrix}1 & 0 & 0 & 1 & 1 & 1 & 0\\\\0 & 1 & 0 & 0 & 1 & 1 & 1\\\\0 & 0 & 1 & 1 & 1 & 0 & 1\\end{matrix}\\right]$"
      ],
      "text/plain": [
       "Matrix([\n",
       "[1, 0, 0, 1, 1, 1, 0],\n",
       "[0, 1, 0, 0, 1, 1, 1],\n",
       "[0, 0, 1, 1, 1, 0, 1]])"
      ]
     },
     "metadata": {},
     "output_type": "display_data"
    },
    {
     "data": {
      "text/plain": [
       "'H, перевірочна матриця'"
      ]
     },
     "metadata": {},
     "output_type": "display_data"
    },
    {
     "data": {
      "text/latex": [
       "$\\displaystyle \\left[\\begin{matrix}1 & 0 & 1 & 1 & 0 & 0 & 0\\\\1 & 1 & 1 & 0 & 1 & 0 & 0\\\\1 & 1 & 0 & 0 & 0 & 1 & 0\\\\0 & 1 & 1 & 0 & 0 & 0 & 1\\end{matrix}\\right]$"
      ],
      "text/plain": [
       "Matrix([\n",
       "[1, 0, 1, 1, 0, 0, 0],\n",
       "[1, 1, 1, 0, 1, 0, 0],\n",
       "[1, 1, 0, 0, 0, 1, 0],\n",
       "[0, 1, 1, 0, 0, 0, 1]])"
      ]
     },
     "metadata": {},
     "output_type": "display_data"
    }
   ],
   "source": [
    "G = sp.Matrix([\n",
    "    [0,0,1,1,1,0,1],\n",
    "    [1,0,0,1,1,1,0],\n",
    "    [0,1,0,0,1,1,1],\n",
    "])\n",
    "G[0,:],G[2,:]=G[2,:],G[0,:]\n",
    "G[0,:],G[1,:]=G[1,:],G[0,:]\n",
    "display(\"G, породжуюча матриця\",G)\n",
    "A = (G[:,3:].transpose())\n",
    "H = A.col_insert(4,sp.diag(*[1]*4))\n",
    "display(\"H, перевірочна матриця\",H)"
   ]
  },
  {
   "cell_type": "markdown",
   "id": "0eaa3fea",
   "metadata": {},
   "source": [
    "Мінімальна кодова відстань: $d^* = 4$\n",
    "\n",
    "Перевірочна матриця ортогонального коду = G"
   ]
  },
  {
   "cell_type": "markdown",
   "id": "087ace23",
   "metadata": {},
   "source": [
    "![](images/5.png)"
   ]
  },
  {
   "cell_type": "markdown",
   "id": "e9e05f72",
   "metadata": {},
   "source": [
    "Нехай бінарний циклічний код містить вектор парної ваги $c \\in C$ \n",
    "\n",
    "1. Якщо $с = 111.....11 \\in C$ (слово не містить нульових координат), то твердження доведено\n",
    "2. Якщо $с \\neq 111.....11$: \n",
    "\n",
    "Нехай $h(c), c \\in C$- циклічний зсув $c$ (відображення $h: C \\rightarrow C$),\n",
    "\n",
    "І $k \\in \\mathbb{N}$ - мінімальна кількість циклічних зсувів, яка не змінює дане слово.\n",
    "\n",
    "Нехай $M = \\{h^i(c) \\space|\\space i=\\overline{\\small{1,k-1}}\\}$ - множина різниць кодового слова із кожним його циклічним зсувом.\n",
    "\n",
    "Тоді $|M| = k-1$ , і кожен елемент даної множини має період $k$\n",
    "\n",
    "Розглянемо лише частину кодових слів (перші $k$ символи), яка є періодичною у даному слові і відповідно всіх різницях множини $M$:\n",
    "\n",
    "Оскільки кількість різниць рівна k-1, то дане слово разом із множиною різниць утворює базис для перших $k$ координат. Тобто, існує така лінійна комбінація базисних векторів, яка перетворює перші $k$ координат на одиничний вектор. Оскільки слово є періодичним з періодом $k$, дана лінійна комбінація перетворює кожен підвектор виду $(i*k, i*k+k)\\space |\\space i \\in \\mathbb{N}$ на одиничний, а отже, вектор $111.....11$ належить коду, що потрібно було довести\n",
    " "
   ]
  },
  {
   "cell_type": "markdown",
   "id": "3184c185",
   "metadata": {},
   "source": [
    "![](images/8.png)"
   ]
  }
 ],
 "metadata": {
  "kernelspec": {
   "display_name": "Python 3 (ipykernel)",
   "language": "python",
   "name": "python3"
  },
  "language_info": {
   "codemirror_mode": {
    "name": "ipython",
    "version": 3
   },
   "file_extension": ".py",
   "mimetype": "text/x-python",
   "name": "python",
   "nbconvert_exporter": "python",
   "pygments_lexer": "ipython3",
   "version": "3.10.7"
  }
 },
 "nbformat": 4,
 "nbformat_minor": 5
}
