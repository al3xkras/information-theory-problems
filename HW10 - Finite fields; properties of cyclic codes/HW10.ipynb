{
 "cells": [
  {
   "cell_type": "code",
   "execution_count": 1,
   "id": "ee63aff1",
   "metadata": {},
   "outputs": [],
   "source": [
    "import sympy as sp\n",
    "import math\n",
    "from IPython.display import display"
   ]
  },
  {
   "cell_type": "markdown",
   "id": "0f6ee6bb",
   "metadata": {},
   "source": [
    "![](images/1.png)"
   ]
  },
  {
   "cell_type": "markdown",
   "id": "6d6eb7fa",
   "metadata": {},
   "source": [
    "$C = \\{a_1a_2a_3a_4 \\space|\\space a_i \\in \\mathbb{F}_3, i=\\overline{1,4}\\}$\n",
    "\n",
    "Нехай $h(c), c \\in C$- циклічний зсув $c$ (відображення $h: C \\rightarrow C$)\n",
    "\n",
    "$\\Rightarrow \\forall c=a_1a_2a_3a_4 \\in C: h(c) = a_4a_1a_2a_3 \\in C\\newline\n",
    "\\Rightarrow $ Код $С$ є циклічним"
   ]
  },
  {
   "cell_type": "markdown",
   "id": "45d23917",
   "metadata": {},
   "source": [
    "![](images/2.png)"
   ]
  },
  {
   "cell_type": "markdown",
   "id": "603a1733",
   "metadata": {},
   "source": [
    "$C = \\{a_1a_2a_3...a_n \\space|\\space a_i \\in \\mathbb{F}_2, i=\\overline{1,n}\\}$ - циклічний бінарний код\n",
    "\n",
    "Нехай $h(c), c \\in C$- циклічний зсув $c$ (відображення $h: C \\rightarrow C$),\n",
    "\n",
    "$\\newline f(c): a_1a_2a_3...a_n \\rightarrow a_1a_2a_3...a_na_{n+1}; \\space\\space\\space a_{n+1} = \\sum\\limits_{i=0}^{n-1}{c_i}(mod \\space2)$\n",
    "\n",
    "Нехай $C_1 = \\{\\space f(c) \\space\\space|\\space c \\in C \\space\\};$\n",
    "\n",
    "$c = a_1a_2a_3...a_na_{n+1} \\in C_1\\newline\n",
    "\\Rightarrow \\space h(c) = a_{n+1}a_1a_2a_3...a_n \\in C_1,\\newline\n",
    "a_{n+1}a_1a_2a_3...a_{n-1} \\in C\\newline\\$\n",
    "\n",
    "1. Нехай $a_{n+1}=1 \\Longleftrightarrow $ Кожне кодове слово $C$ містить непарну кількість одиничних координат \n",
    "\n",
    "$\\Rightarrow (a_{n+1}a_1a_2a_3...a_{n-1} \\in C) \\Longleftrightarrow (a_n = 1)$ (Інакше кількість одиничних координат є парною, і слово не належить коду)\n",
    "\n",
    "Повторюючи дану операцію, отримаємо:\n",
    "\n",
    "$a_n = 1, a_{n-1} = 1, ..., a_1 = 1$\n",
    "\n",
    "Тобто, $C = \\{111....1\\}\\newline\\newline$\n",
    "\n",
    "\n",
    "2. Нехай $a_{n+1}=0 \\Longleftrightarrow $ Кожне кодове слово $C$ містить парну кількість одиничних координат $\\newline$ \n",
    "    1. $C = \\{000....0\\} \\Rightarrow C_1$ є циклічним $\\newline$\n",
    "    2. $C \\neq \\{000....0\\}$\n",
    "\n",
    "Якщо $C \\neq \\{000....0\\} \\Rightarrow \\text{Для деякого циклічного зсуву}: (a_1a_2a_3...a_{n} \\in C):  (a_{n} = 1)\\newline\n",
    "\\text{Тобто, } a_{n+1}a_1a_2a_3...a_{n-1} \\text{ містить парну кількість координат, і не належить коду } C, \\text{ що є суперечністю.}\\newline\\newline\n",
    "\\text{Отже, }С_1 \\text{ є циклічним кодом } \\Longleftrightarrow\\newline\n",
    "$\n",
    "$\n",
    "\\begin{align}\n",
    "\\left[\n",
    "\\begin{array}{ll}\n",
    "    C = \\{a_1a_2a_3...a_n \\space|\\space a_i=0\\space \\forall i=\\overline{1,n}\\} \\\\\n",
    "    C = \\{a_1a_2a_3...a_n \\space|\\space a_i=1\\space \\forall i=\\overline{1,n}\\},\\space n \\equiv 1 \\space (mod\\space 2)\n",
    "\\end{array}\n",
    "\\right .\n",
    "\\end{align}$"
   ]
  },
  {
   "cell_type": "markdown",
   "id": "4f207866",
   "metadata": {},
   "source": [
    "![](images/3.png)"
   ]
  },
  {
   "cell_type": "markdown",
   "id": "cff541b8",
   "metadata": {},
   "source": [
    "![](images/4.png)"
   ]
  },
  {
   "cell_type": "markdown",
   "id": "35c50e02",
   "metadata": {},
   "source": [
    "![](images/5.png)"
   ]
  },
  {
   "cell_type": "markdown",
   "id": "9a62094b",
   "metadata": {},
   "source": [
    "![](images/6.png)"
   ]
  },
  {
   "cell_type": "markdown",
   "id": "9134038f",
   "metadata": {},
   "source": [
    "![](images/7.png)"
   ]
  },
  {
   "cell_type": "markdown",
   "id": "77ec04fa",
   "metadata": {},
   "source": [
    "![](images/8.png)"
   ]
  },
  {
   "cell_type": "code",
   "execution_count": null,
   "id": "62ce3606",
   "metadata": {},
   "outputs": [],
   "source": []
  }
 ],
 "metadata": {
  "kernelspec": {
   "display_name": "Python 3 (ipykernel)",
   "language": "python",
   "name": "python3"
  },
  "language_info": {
   "codemirror_mode": {
    "name": "ipython",
    "version": 3
   },
   "file_extension": ".py",
   "mimetype": "text/x-python",
   "name": "python",
   "nbconvert_exporter": "python",
   "pygments_lexer": "ipython3",
   "version": "3.10.7"
  }
 },
 "nbformat": 4,
 "nbformat_minor": 5
}
