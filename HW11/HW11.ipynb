{
 "cells": [
  {
   "cell_type": "markdown",
   "id": "58023319",
   "metadata": {},
   "source": [
    "![](images/1.png)"
   ]
  },
  {
   "cell_type": "markdown",
   "id": "88d849ac",
   "metadata": {},
   "source": [
    "$\\mathbb{F}_q \\subset \\mathbb{F}_{q^m}$ - розширення скінченних полів, \n",
    "\n",
    "$(q = p^n), \\space\\alpha \\in \\mathbb{F}_{q^m}$ - примітивний елемент розширення, тобтo \n",
    "\n",
    "$\\mathbb{F}_{q^m} = \\mathbb{F}_q(\\alpha)$\n",
    "\n",
    "Тоді, $ord(a) = m,$ і факторгрупа $ \\space\\space \\mathbb{F}_{q^m}/\\mathbb{F}_q = \\{1*\\mathbb{F}_q,\\alpha*\\mathbb{F}_q,...,\\alpha^{m-1}*\\mathbb{F}_q\\}$\n",
    "\n",
    "$m \\nmid q \\Rightarrow (m,q)=1$\n",
    "   \n",
    "$\\Rightarrow {q^k} \\neq 1 \\space(mod\\space m)\\space \\forall k = \\overline{1,m-1},$\n",
    "   \n",
    "$ord(\\alpha^{q^k}) = m, k = \\overline{1,m-1}$\n",
    "   \n",
    "Отже, кожен елемент виду $\\alpha^{q^k}$, є твірним елементом базису $\\mathbb{F}_{q^m}$ над $\\mathbb{F}_{q} \\Rightarrow $ є примітивним елементом розширення \n",
    "   "
   ]
  },
  {
   "cell_type": "markdown",
   "id": "d72a7183",
   "metadata": {},
   "source": [
    "![](images/2.png)"
   ]
  },
  {
   "cell_type": "markdown",
   "id": "b9ca239f",
   "metadata": {},
   "source": [
    "$\\mathbb{F}_q \\subset \\mathbb{F}_{q^m}$ - розширення скінченних полів, \n",
    "\n",
    "$\\alpha \\in \\mathbb{F}_{q^m}, f_\\alpha - $ мінімальний многочлен елемента $\\alpha$ над $\\mathbb{F}_q$\n",
    "\n",
    "</br>\n",
    "\n",
    "1. Нехай $f_\\alpha - $ звідний многочлен над $\\mathbb{F}_q$. Тоді існує розклад даного многочлена на множники \n",
    "\n",
    "    степеня $\\geq 0: \\exists g,h: f(a) = g(a)*h(a) \\rightarrow  (deg(g)>0) \\wedge (deg(h)>0)$\n",
    "    \n",
    "    Тоді $g(\\alpha)=0 \\vee h(\\alpha)=0 \\vee (g(\\alpha)=0\\wedge h(\\alpha)=0)$, тобто $\\exists f_1(x): f_1(\\alpha), deg(f_1)<deg(f) \\Rightarrow$ f не є мінімальним \n",
    "    $\\square$\n",
    "\n",
    "</br>\n",
    "\n",
    "2. Довести: $\\forall f(\\alpha): f(\\alpha) = 0 \\Rightarrow f_{min}(\\alpha)\\space|\\space f(\\alpha)$\n",
    "\n",
    "    Нехай $f_{min}(\\alpha)$ - мінімальний многочлен елемента $\\alpha$ \n",
    "    \n",
    "    Тоді $f_{min}(\\alpha)$ визначений однозначно $\\forall \\alpha \\in \\mathbb{F}_{q^m}$\n",
    "    \n",
    "    Тобто, $\\forall g(a): g(\\alpha)=0 \\space\\exists h(a) \\space\\exists k \\in \\mathbb{N}: g = f_{min}(a)^kh(a)$\n",
    "    \n",
    "    Отже, $f_{min}(a) \\space|\\space g(a) \\space\\square$\n",
    "\n",
    "</br>\n",
    "\n",
    "3. Довести: $f_{min}(\\alpha)$ - є мінімальним многочленом елементів $\\alpha^q, ..., \\alpha^{q^{m-1}}$"
   ]
  },
  {
   "cell_type": "markdown",
   "id": "234653c9",
   "metadata": {},
   "source": [
    "![](images/3.png)"
   ]
  },
  {
   "cell_type": "markdown",
   "id": "2da83ba7",
   "metadata": {},
   "source": [
    "Нехай код $C$ виправляє 3 помилки. Тоді $[\\frac{d^*}{2}] = 3 \\Rightarrow d^* \\in {6,7}$.\n",
    "\n",
    "Нехай $G_{12,4}$ - породжуюча матриця коду $C$ і $H = H_{12,8}$ - перевірочна матриця. Тоді $n>=6$ - мінімальна кількість лінійно залежних стовпців матриці $H \\Rightarrow $ \n",
    "\n",
    "$H = \n",
    "\\begin{bmatrix}\n",
    "    x_{11} & x_{12} & x_{13} & \\dots  & x_{1n} \\\\\n",
    "    x_{21} & x_{22} & x_{23} & \\dots  & x_{2n} \\\\\n",
    "    \\vdots & \\vdots & \\vdots & \\ddots & \\vdots \\\\\n",
    "    x_{d1} & x_{d2} & x_{d3} & \\dots  & x_{dn}\n",
    "\\end{bmatrix}\n",
    "$"
   ]
  },
  {
   "cell_type": "markdown",
   "id": "b72cf4ac",
   "metadata": {},
   "source": [
    "![](images/4.png)"
   ]
  },
  {
   "cell_type": "markdown",
   "id": "1ce5609d",
   "metadata": {},
   "source": [
    "![](images/5.png)"
   ]
  },
  {
   "cell_type": "markdown",
   "id": "ca42916f",
   "metadata": {},
   "source": []
  }
 ],
 "metadata": {
  "kernelspec": {
   "display_name": "Python 3 (ipykernel)",
   "language": "python",
   "name": "python3"
  },
  "language_info": {
   "codemirror_mode": {
    "name": "ipython",
    "version": 3
   },
   "file_extension": ".py",
   "mimetype": "text/x-python",
   "name": "python",
   "nbconvert_exporter": "python",
   "pygments_lexer": "ipython3",
   "version": "3.10.7"
  }
 },
 "nbformat": 4,
 "nbformat_minor": 5
}
