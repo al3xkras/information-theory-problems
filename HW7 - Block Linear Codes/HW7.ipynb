{
 "cells": [
  {
   "cell_type": "code",
   "execution_count": 1,
   "id": "aa2a2837",
   "metadata": {},
   "outputs": [],
   "source": [
    "import sympy as sp\n",
    "import math\n",
    "from IPython.display import display"
   ]
  },
  {
   "cell_type": "markdown",
   "id": "4b3cd7b5",
   "metadata": {},
   "source": [
    "![](images/1.png)"
   ]
  },
  {
   "cell_type": "code",
   "execution_count": 37,
   "id": "c107506b",
   "metadata": {},
   "outputs": [
    {
     "data": {
      "text/plain": [
       "'G'"
      ]
     },
     "metadata": {},
     "output_type": "display_data"
    },
    {
     "data": {
      "text/latex": [
       "$\\displaystyle \\left[\\begin{matrix}1 & 1 & 0 & 0 & 1\\\\1 & 0 & 1 & 0 & 1\\\\0 & 1 & 1 & 1 & 0\\end{matrix}\\right]$"
      ],
      "text/plain": [
       "Matrix([\n",
       "[1, 1, 0, 0, 1],\n",
       "[1, 0, 1, 0, 1],\n",
       "[0, 1, 1, 1, 0]])"
      ]
     },
     "metadata": {},
     "output_type": "display_data"
    },
    {
     "data": {
      "text/plain": [
       "'G, standard form'"
      ]
     },
     "metadata": {},
     "output_type": "display_data"
    },
    {
     "data": {
      "text/latex": [
       "$\\displaystyle \\left[\\begin{matrix}1 & 0 & 1 & 0 & 1\\\\0 & 1 & 1 & 0 & 0\\\\0 & 0 & 0 & 1 & 0\\end{matrix}\\right]$"
      ],
      "text/plain": [
       "Matrix([\n",
       "[1, 0, 1, 0, 1],\n",
       "[0, 1, 1, 0, 0],\n",
       "[0, 0, 0, 1, 0]])"
      ]
     },
     "metadata": {},
     "output_type": "display_data"
    },
    {
     "data": {
      "text/plain": [
       "'H'"
      ]
     },
     "metadata": {},
     "output_type": "display_data"
    },
    {
     "data": {
      "text/latex": [
       "$\\displaystyle \\left[\\begin{matrix}1 & 1 & 1 & 0 & 0\\\\1 & 0 & 0 & 0 & 1\\end{matrix}\\right]$"
      ],
      "text/plain": [
       "Matrix([\n",
       "[1, 1, 1, 0, 0],\n",
       "[1, 0, 0, 0, 1]])"
      ]
     },
     "metadata": {},
     "output_type": "display_data"
    }
   ],
   "source": [
    "G = sp.Matrix([\n",
    "    [1,1,0,0,1],\n",
    "    [1,0,1,0,1],\n",
    "    [0,1,1,1,0]\n",
    "])\n",
    "display(\"G\",G)\n",
    "G[1,:]-=G[0,:]\n",
    "G[2,:]+=G[1,:]\n",
    "G[0,:]+=G[1,:]\n",
    "G=G.applyfunc(lambda x: x%2)\n",
    "#G[2,:]+=G[0,:]+G[1,:]\n",
    "display(\"G, standard form\",G)\n",
    "#replace 2nd and 3rd coordinates\n",
    "G[:,2],G[:,3]=G[:,3],G[:,2]\n",
    "A = G[:,3:]\n",
    "G[:,2],G[:,3]=G[:,3],G[:,2]\n",
    "A=-A.transpose()\n",
    "H=sp.diag(*[1]*A.shape[0]).col_insert(0,A)\n",
    "H=H.applyfunc(lambda x: x%2)\n",
    "#replace 2nd and 3rd coordinates back\n",
    "H[:,2],H[:,3]=H[:,3],H[:,2]\n",
    "display(\"H\",H)"
   ]
  },
  {
   "cell_type": "code",
   "execution_count": 38,
   "id": "6876c21f",
   "metadata": {},
   "outputs": [
    {
     "name": "stdout",
     "output_type": "stream",
     "text": [
      "C_dual = {v_i, i=1,4}\n",
      "v1=\n"
     ]
    },
    {
     "data": {
      "text/latex": [
       "$\\displaystyle \\left[\\begin{matrix}0 & 0 & 0 & 0 & 0\\end{matrix}\\right]$"
      ],
      "text/plain": [
       "Matrix([[0, 0, 0, 0, 0]])"
      ]
     },
     "metadata": {},
     "output_type": "display_data"
    },
    {
     "name": "stdout",
     "output_type": "stream",
     "text": [
      "v2=\n"
     ]
    },
    {
     "data": {
      "text/latex": [
       "$\\displaystyle \\left[\\begin{matrix}1 & 1 & 1 & 0 & 0\\end{matrix}\\right]$"
      ],
      "text/plain": [
       "Matrix([[1, 1, 1, 0, 0]])"
      ]
     },
     "metadata": {},
     "output_type": "display_data"
    },
    {
     "name": "stdout",
     "output_type": "stream",
     "text": [
      "v3=\n"
     ]
    },
    {
     "data": {
      "text/latex": [
       "$\\displaystyle \\left[\\begin{matrix}1 & 0 & 0 & 0 & 1\\end{matrix}\\right]$"
      ],
      "text/plain": [
       "Matrix([[1, 0, 0, 0, 1]])"
      ]
     },
     "metadata": {},
     "output_type": "display_data"
    },
    {
     "name": "stdout",
     "output_type": "stream",
     "text": [
      "v4=\n"
     ]
    },
    {
     "data": {
      "text/latex": [
       "$\\displaystyle \\left[\\begin{matrix}0 & 1 & 1 & 0 & 1\\end{matrix}\\right]$"
      ],
      "text/plain": [
       "Matrix([[0, 1, 1, 0, 1]])"
      ]
     },
     "metadata": {},
     "output_type": "display_data"
    }
   ],
   "source": [
    "C_T = [H[0,:]+H[0,:],H[0,:],H[1,:],H[0,:]+H[1,:]]\n",
    "f=lambda a: a%2\n",
    "C_T = list(map(lambda x: x.applyfunc(f),C_T))\n",
    "\n",
    "print(\"C_dual = {v_i, i=1,4}\")\n",
    "i=0\n",
    "for v in C_T:\n",
    "    i+=1\n",
    "    print(\"v%s=\"%i)\n",
    "    display(v)"
   ]
  },
  {
   "cell_type": "markdown",
   "id": "f5ffbb68",
   "metadata": {},
   "source": [
    "![](images/2.png)"
   ]
  },
  {
   "cell_type": "code",
   "execution_count": 43,
   "id": "8912459e",
   "metadata": {},
   "outputs": [
    {
     "data": {
      "text/plain": [
       "'G'"
      ]
     },
     "metadata": {},
     "output_type": "display_data"
    },
    {
     "data": {
      "text/latex": [
       "$\\displaystyle \\left[\\begin{matrix}1 & 0 & 0 & 0 & 1 & 1\\\\0 & 1 & 0 & 1 & 1 & 0\\\\0 & 0 & 1 & 1 & 1 & 1\\end{matrix}\\right]$"
      ],
      "text/plain": [
       "Matrix([\n",
       "[1, 0, 0, 0, 1, 1],\n",
       "[0, 1, 0, 1, 1, 0],\n",
       "[0, 0, 1, 1, 1, 1]])"
      ]
     },
     "metadata": {},
     "output_type": "display_data"
    }
   ],
   "source": [
    "H = sp.Matrix([\n",
    "    [0,1,1,1,0,0],\n",
    "    [1,1,1,0,1,0],\n",
    "    [1,0,1,0,0,1]\n",
    "])\n",
    "A = -H[:,:3].transpose()\n",
    "A=A.applyfunc(lambda x:x%2)\n",
    "G = A.col_insert(0,sp.diag(*[1]*3))\n",
    "display(\"G\",G)"
   ]
  },
  {
   "cell_type": "markdown",
   "id": "c8e0d1b8",
   "metadata": {},
   "source": [
    "![](images/3.png)"
   ]
  },
  {
   "cell_type": "code",
   "execution_count": 44,
   "id": "105cefcf",
   "metadata": {},
   "outputs": [],
   "source": [
    "H = sp.Matrix([\n",
    "    [1,1,0,0,1],\n",
    "    [1,0,1,0,1],\n",
    "    [0,1,1,1,0]\n",
    "])\n",
    "# [1 1 0],[1,1,0] - Мінімальна підмножина лінійно залежних векторів-стовпчиків\n",
    "# =>"
   ]
  },
  {
   "cell_type": "markdown",
   "id": "08922f1c",
   "metadata": {},
   "source": [
    "$$\\text{Кодова відстань}: d^{*} = 2$$"
   ]
  },
  {
   "cell_type": "markdown",
   "id": "fba8ea3f",
   "metadata": {},
   "source": [
    "![](images/4.png)"
   ]
  },
  {
   "cell_type": "markdown",
   "id": "7029b553",
   "metadata": {},
   "source": [
    "Нехай серед $k$ базисних векторів рівно $m$ містить одиницю на деякій координаті\n",
    "Відповідно, $k - m$ - містять нуль на даній координаті\n",
    "\n",
    "Тоді: \n",
    "\n",
    "$\\frac{2^m}{2}$ - кількість лінійних комбінацій $m$ векторів з одиничною координатою, які містять одиницю на даній координаті\n",
    "\n",
    "$\\frac{2^m}{2}$ - кількість лінійних комбінацій $m$ векторів з одиничною координатою, які містять нуль на даній координаті\n",
    "\n",
    "$2^{k-m}$ - кількість лінійних комбінацій $k - m$ векторів з нульовою координатою, які містять нуль на даній координаті\n",
    "\n",
    "$0$ - кількість лінійних комбінацій $k - m$ векторів з нульовою координатою, які містять одиницю на даній координаті\n",
    "\n",
    "Загальна кількість комбінацій, які містять одиницю на даній координаті:\n",
    "\n",
    "$$2^{m-1}*2^{k-m} = 2^{k-1}$$\n",
    "\n",
    "Загальна кількість комбінацій, які містять нуль на даній координаті\n",
    "\n",
    "$$2^{m-1}*2^{k-m} = 2^{k-1}$$\n",
    "\n",
    "Отже, для кожної з $n$ координат, кількість одиниць у кодовій матриці рівна кількості нулів, якщо існує принаймні один базисний вектор що містить одиницю на даній координаті,\n",
    "що потрібно було довести"
   ]
  },
  {
   "cell_type": "markdown",
   "id": "f7036f74",
   "metadata": {},
   "source": [
    "![](images/5.png)"
   ]
  },
  {
   "cell_type": "markdown",
   "id": "4e1f1db5",
   "metadata": {},
   "source": [
    "Нехай $v \\in V_n, v = [v_1, v_2, ... v_n]$\n",
    "\n",
    "І всього $k$ координат даного вектора є одиничними ($v_{i_1}, ..., v_{i_k}$)\n",
    "\n",
    "Оскільки $\\forall w \\in V_n : w \\perp v \\iff (v,w) = 0$, кожен ортогональний до даного вектор містить нулі на відповідних координатах, і одиницю або нуль на інших.\n",
    "\n",
    "Тобто, загальна кількість ортогональних $v \\in V_n$ векторів рівна\n",
    "\n",
    "$$2^{n-k}$$\n"
   ]
  },
  {
   "cell_type": "markdown",
   "id": "18bb5aac",
   "metadata": {},
   "source": [
    "![](images/6.png)"
   ]
  },
  {
   "cell_type": "markdown",
   "id": "52a10b0b",
   "metadata": {},
   "source": [
    "Нехай ${v1,v2,...,v_k} - \\text{базис } С \\subset V_n$\n",
    "\n",
    "Тоді базис $C^\\perp$ - Базис підпростору $V_n\\text{\\\\}C$\n",
    "\n",
    "Тобто, базис $(C^\\perp)^\\perp$ - базис підпростору $V_n\\text{\\\\}(V_n\\text{\\\\}C) = C$,\n",
    "\n",
    "що потрібно було довести\n",
    "\n",
    "\n"
   ]
  },
  {
   "cell_type": "code",
   "execution_count": null,
   "id": "4ac9ee0a",
   "metadata": {},
   "outputs": [],
   "source": []
  }
 ],
 "metadata": {
  "kernelspec": {
   "display_name": "Python 3 (ipykernel)",
   "language": "python",
   "name": "python3"
  },
  "language_info": {
   "codemirror_mode": {
    "name": "ipython",
    "version": 3
   },
   "file_extension": ".py",
   "mimetype": "text/x-python",
   "name": "python",
   "nbconvert_exporter": "python",
   "pygments_lexer": "ipython3",
   "version": "3.10.7"
  }
 },
 "nbformat": 4,
 "nbformat_minor": 5
}
